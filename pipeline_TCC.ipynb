{
  "cells": [
    {
      "cell_type": "markdown",
      "id": "c5dbd12c",
      "metadata": {
        "id": "c5dbd12c"
      },
      "source": [
        "# Reconhecimento de nomes de instituições utilizando Inteligência Artificial\n",
        "\n",
        "## Projeto PIBITI  \n",
        "\n",
        "### Edital 18/2021-PROPPG-IFG\n",
        "\n",
        "#### Estudante (bolsista): João Gabriel Grandoto Viana\n",
        "#### Orientador: Waldeyr Mendes Cordeiro da Silva"
      ]
    },
    {
      "cell_type": "markdown",
      "id": "bd417891",
      "metadata": {
        "id": "bd417891"
      },
      "source": [
        "## Parte 01 Coleta e tratamento de dados das fontes primárias"
      ]
    },
    {
      "cell_type": "code",
      "execution_count": 87,
      "id": "ec9c73fc",
      "metadata": {
        "id": "ec9c73fc"
      },
      "outputs": [],
      "source": [
        "import numpy as np\n",
        "import matplotlib.pyplot as plt\n",
        "from sklearn import svm\n",
        "from sklearn.datasets import make_blobs\n",
        "import pandas as pd"
      ]
    },
    {
      "cell_type": "code",
      "execution_count": 88,
      "id": "7c4fae1b",
      "metadata": {
        "id": "7c4fae1b"
      },
      "outputs": [],
      "source": [
        "url1 ='https://raw.githubusercontent.com/joaograndotto/PIBITI/main/Datasets/scopus.csv'\n",
        "url2 = 'https://raw.githubusercontent.com/joaograndotto/PIBITI/main/Datasets/webscience.csv'\n",
        "\n",
        "scopus = pd.read_csv(url1)\n",
        "web_of_science = pd.read_csv(url2, sep=\"\\t\" )"
      ]
    },
    {
      "cell_type": "code",
      "execution_count": 89,
      "id": "7bdf5ef9",
      "metadata": {
        "id": "7bdf5ef9",
        "outputId": "aceb4fb9-26aa-4a31-ab62-ce1cd5c98fbd",
        "colab": {
          "base_uri": "https://localhost:8080/"
        }
      },
      "outputs": [
        {
          "output_type": "execute_result",
          "data": {
            "text/plain": [
              "(31, 67)"
            ]
          },
          "metadata": {},
          "execution_count": 89
        }
      ],
      "source": [
        "web_of_science.shape"
      ]
    },
    {
      "cell_type": "code",
      "execution_count": 90,
      "id": "566813c6",
      "metadata": {
        "id": "566813c6",
        "outputId": "d3093790-fdb2-4f49-89f4-74568bccdb11",
        "colab": {
          "base_uri": "https://localhost:8080/"
        }
      },
      "outputs": [
        {
          "output_type": "execute_result",
          "data": {
            "text/plain": [
              "(1276, 50)"
            ]
          },
          "metadata": {},
          "execution_count": 90
        }
      ],
      "source": [
        "scopus.shape"
      ]
    },
    {
      "cell_type": "code",
      "execution_count": 91,
      "id": "89ba49c6",
      "metadata": {
        "id": "89ba49c6"
      },
      "outputs": [],
      "source": [
        "#Renomeie as Colunas relacionadas porque estavam com os nomes diferentes\n",
        "web_of_science.rename(columns={'Publication Year': 'Year'}, inplace = True)\n",
        "web_of_science.rename(columns={'Article Title': 'Title'}, inplace = True)\n",
        "web_of_science.rename(columns={'Publisher': 'Affiliations'}, inplace = True)"
      ]
    },
    {
      "cell_type": "code",
      "execution_count": 92,
      "id": "26a86703",
      "metadata": {
        "id": "26a86703",
        "outputId": "5a87f934-ddee-413b-c242-fd63735d3cf9",
        "colab": {
          "base_uri": "https://localhost:8080/"
        }
      },
      "outputs": [
        {
          "output_type": "execute_result",
          "data": {
            "text/plain": [
              "0    Instituto Federal de Goiás-IFG, Campus Goiânia...\n",
              "1    Instituto Federal de Goiás (IFG), Aparecida de...\n",
              "2    Instituto Federal de Educação, Ciência e Tecno...\n",
              "3    Universidade Federal de Goiás – UFG, Rede Pró ...\n",
              "4    Department of Agronomy, Universidade Federal R...\n",
              "5    Institute for Hygiene and Public Health, Medic...\n",
              "6    Department of Environmental Informatics, Helmh...\n",
              "7    Grupo de Estudos em Geomática (GEO), Instituto...\n",
              "8    Laboratory of Environmental Biotechnology and ...\n",
              "9    Universidade Federal de Goiás (UFG), Instituto...\n",
              "Name: Affiliations, dtype: object"
            ]
          },
          "metadata": {},
          "execution_count": 92
        }
      ],
      "source": [
        "scopus[\"Affiliations\"].head(10)"
      ]
    },
    {
      "cell_type": "code",
      "execution_count": 93,
      "id": "16b8e5c1",
      "metadata": {
        "id": "16b8e5c1",
        "outputId": "d96194a8-6f0a-4bc0-fee4-59e2d7552b3f",
        "colab": {
          "base_uri": "https://localhost:8080/"
        }
      },
      "outputs": [
        {
          "output_type": "execute_result",
          "data": {
            "text/plain": [
              "0    INST FED EDUCATION, SCIENCE & TECHNOLOGY OF GO...\n",
              "1    INST FED EDUCATION, SCIENCE & TECHNOLOGY OF GO...\n",
              "2                        UNIV DO VALE DO RIO DOS SINOS\n",
              "3    INST FED EDUCATION, SCIENCE & TECHNOLOGY OF GO...\n",
              "4                                             ELSEVIER\n",
              "5                          UNIV FEDERAL CAMPINA GRANDE\n",
              "6    INST FED EDUCATION, SCIENCE & TECHNOLOGY OF GO...\n",
              "7                PONTIFICIA UNIV CATOLICA PARANA-PUCPR\n",
              "8                             UNIV FEDERAL SANTA MARIA\n",
              "9                                      INST AGRONOMICO\n",
              "Name: Affiliations, dtype: object"
            ]
          },
          "metadata": {},
          "execution_count": 93
        }
      ],
      "source": [
        "web_of_science[\"Affiliations\"].head(10)"
      ]
    },
    {
      "cell_type": "code",
      "execution_count": 94,
      "id": "ce40cbae",
      "metadata": {
        "id": "ce40cbae"
      },
      "outputs": [],
      "source": [
        "#juntando os dois dataframes\n",
        "result = pd.concat([scopus, web_of_science])"
      ]
    },
    {
      "cell_type": "code",
      "execution_count": 95,
      "id": "fe76de0f",
      "metadata": {
        "id": "fe76de0f"
      },
      "outputs": [],
      "source": [
        "nulos = result.loc[result['DOI'].isnull()] # somente registros sem DOI\n",
        "nulos.index[0]\n",
        "result = result.drop([nulos.index[0]])"
      ]
    },
    {
      "cell_type": "code",
      "execution_count": 96,
      "id": "ab50c874",
      "metadata": {
        "id": "ab50c874"
      },
      "outputs": [],
      "source": [
        "total_artigos = result.shape[0]"
      ]
    },
    {
      "cell_type": "code",
      "execution_count": 97,
      "id": "d6aab840",
      "metadata": {
        "id": "d6aab840",
        "outputId": "a3181209-2254-4fb8-a1d1-15a645348d20",
        "colab": {
          "base_uri": "https://localhost:8080/"
        }
      },
      "outputs": [
        {
          "output_type": "execute_result",
          "data": {
            "text/plain": [
              "Index(['Authors', 'Author(s) ID', 'Title', 'Year', 'Source title', 'Volume',\n",
              "       'Issue', 'Art. No.', 'Page start', 'Page end',\n",
              "       ...\n",
              "       'Number of Pages', 'WoS Categories', 'Research Areas', 'IDS Number',\n",
              "       'UT (Unique WOS ID)', 'Pubmed Id', 'Open Access Designations',\n",
              "       'Highly Cited Status', 'Hot Paper Status', 'Date of Export'],\n",
              "      dtype='object', length=105)"
            ]
          },
          "metadata": {},
          "execution_count": 97
        }
      ],
      "source": [
        "result.columns"
      ]
    },
    {
      "cell_type": "code",
      "execution_count": 98,
      "id": "3b7cf69f",
      "metadata": {
        "id": "3b7cf69f",
        "outputId": "b5caf9c6-320f-40b5-8b65-89ac3170fb6e",
        "colab": {
          "base_uri": "https://localhost:8080/"
        }
      },
      "outputs": [
        {
          "output_type": "execute_result",
          "data": {
            "text/plain": [
              "(1162, 105)"
            ]
          },
          "metadata": {},
          "execution_count": 98
        }
      ],
      "source": [
        "#Verificando duplicados na coluna DOI e apagando as linhas com DOI duplicado\n",
        "result = result.drop_duplicates(subset=['DOI'], keep='first')\n",
        "result.shape"
      ]
    },
    {
      "cell_type": "code",
      "execution_count": 99,
      "id": "1ac0b2c1",
      "metadata": {
        "id": "1ac0b2c1",
        "outputId": "ec69a91b-3660-4686-b075-c06e759dc401",
        "colab": {
          "base_uri": "https://localhost:8080/"
        }
      },
      "outputs": [
        {
          "output_type": "execute_result",
          "data": {
            "text/plain": [
              "144"
            ]
          },
          "metadata": {},
          "execution_count": 99
        }
      ],
      "source": [
        "duplicados_eliminados = total_artigos - result.shape[0]\n",
        "duplicados_eliminados"
      ]
    },
    {
      "cell_type": "code",
      "execution_count": 100,
      "id": "e582e5c5",
      "metadata": {
        "id": "e582e5c5"
      },
      "outputs": [],
      "source": [
        "# nomear os indices do tamanho do novo dataframe\n",
        "index =[]  \n",
        "for i in range(result.shape[0]): \n",
        "    index.append(i)\n",
        "result.index = index"
      ]
    },
    {
      "cell_type": "code",
      "execution_count": 101,
      "id": "a5151517",
      "metadata": {
        "id": "a5151517",
        "outputId": "083233af-4efc-47d5-8a8a-968602bcd260",
        "colab": {
          "base_uri": "https://localhost:8080/",
          "height": 503
        }
      },
      "outputs": [
        {
          "output_type": "execute_result",
          "data": {
            "text/plain": [
              "                                  DOI  \\\n",
              "0        10.1016/j.nonrwa.2021.103406   \n",
              "1        10.1007/978-3-030-79165-0_25   \n",
              "2            10.1590/1519-6984.245368   \n",
              "3            10.1590/1519-6984.234476   \n",
              "4          10.1038/s41598-021-97854-8   \n",
              "...                               ...   \n",
              "1157        10.31977/grirfi.v16i2.774   \n",
              "1158  10.1590/S0101-31732015000400002   \n",
              "1159  10.1590/S1415-43662014000400013   \n",
              "1160  10.1590/S0034-89102010005000053   \n",
              "1161              10.5585/iji.v4i1.67   \n",
              "\n",
              "                                                  Title  \\\n",
              "0     Classical solution for a nonlinear hybrid syst...   \n",
              "1     An Innovative Textile Product Proposal Based o...   \n",
              "2     Detection of enteroparasites in foliar vegetab...   \n",
              "3     Phytochemical characterization, and antioxidan...   \n",
              "4     Stability analysis of reference genes for RT-q...   \n",
              "...                                                 ...   \n",
              "1157  HUMAN RIGHTS: FROM THE UNIFORMITY OF THE SPECI...   \n",
              "1158               PRESENTATION OF THE DOSSIER ROUSSEAU   \n",
              "1159  Physiological quality of soybean seeds stored ...   \n",
              "1160  Ethics in the publication of studies on human ...   \n",
              "1161  SYSTEMATIC REVIEW OF THE LITERATURE SOCIAL ENT...   \n",
              "\n",
              "                                           Affiliations  \n",
              "0     Instituto Federal de Goiás-IFG, Campus Goiânia...  \n",
              "1     Instituto Federal de Goiás (IFG), Aparecida de...  \n",
              "2     Instituto Federal de Educação, Ciência e Tecno...  \n",
              "3     Universidade Federal de Goiás – UFG, Rede Pró ...  \n",
              "4     Department of Agronomy, Universidade Federal R...  \n",
              "...                                                 ...  \n",
              "1157  UNIV FED RECONCAVO BAHIA, CENTRO FORMACAO PROF...  \n",
              "1158                                      UNESP-MARILIA  \n",
              "1159                        UNIV FEDERAL CAMPINA GRANDE  \n",
              "1160                           REVISTA DE SAUDE PUBLICA  \n",
              "1161                                    UNIV NOVE JULHO  \n",
              "\n",
              "[1162 rows x 3 columns]"
            ],
            "text/html": [
              "\n",
              "  <div id=\"df-5739dc1a-b832-43b7-b0b3-384d65d2ae11\">\n",
              "    <div class=\"colab-df-container\">\n",
              "      <div>\n",
              "<style scoped>\n",
              "    .dataframe tbody tr th:only-of-type {\n",
              "        vertical-align: middle;\n",
              "    }\n",
              "\n",
              "    .dataframe tbody tr th {\n",
              "        vertical-align: top;\n",
              "    }\n",
              "\n",
              "    .dataframe thead th {\n",
              "        text-align: right;\n",
              "    }\n",
              "</style>\n",
              "<table border=\"1\" class=\"dataframe\">\n",
              "  <thead>\n",
              "    <tr style=\"text-align: right;\">\n",
              "      <th></th>\n",
              "      <th>DOI</th>\n",
              "      <th>Title</th>\n",
              "      <th>Affiliations</th>\n",
              "    </tr>\n",
              "  </thead>\n",
              "  <tbody>\n",
              "    <tr>\n",
              "      <th>0</th>\n",
              "      <td>10.1016/j.nonrwa.2021.103406</td>\n",
              "      <td>Classical solution for a nonlinear hybrid syst...</td>\n",
              "      <td>Instituto Federal de Goiás-IFG, Campus Goiânia...</td>\n",
              "    </tr>\n",
              "    <tr>\n",
              "      <th>1</th>\n",
              "      <td>10.1007/978-3-030-79165-0_25</td>\n",
              "      <td>An Innovative Textile Product Proposal Based o...</td>\n",
              "      <td>Instituto Federal de Goiás (IFG), Aparecida de...</td>\n",
              "    </tr>\n",
              "    <tr>\n",
              "      <th>2</th>\n",
              "      <td>10.1590/1519-6984.245368</td>\n",
              "      <td>Detection of enteroparasites in foliar vegetab...</td>\n",
              "      <td>Instituto Federal de Educação, Ciência e Tecno...</td>\n",
              "    </tr>\n",
              "    <tr>\n",
              "      <th>3</th>\n",
              "      <td>10.1590/1519-6984.234476</td>\n",
              "      <td>Phytochemical characterization, and antioxidan...</td>\n",
              "      <td>Universidade Federal de Goiás – UFG, Rede Pró ...</td>\n",
              "    </tr>\n",
              "    <tr>\n",
              "      <th>4</th>\n",
              "      <td>10.1038/s41598-021-97854-8</td>\n",
              "      <td>Stability analysis of reference genes for RT-q...</td>\n",
              "      <td>Department of Agronomy, Universidade Federal R...</td>\n",
              "    </tr>\n",
              "    <tr>\n",
              "      <th>...</th>\n",
              "      <td>...</td>\n",
              "      <td>...</td>\n",
              "      <td>...</td>\n",
              "    </tr>\n",
              "    <tr>\n",
              "      <th>1157</th>\n",
              "      <td>10.31977/grirfi.v16i2.774</td>\n",
              "      <td>HUMAN RIGHTS: FROM THE UNIFORMITY OF THE SPECI...</td>\n",
              "      <td>UNIV FED RECONCAVO BAHIA, CENTRO FORMACAO PROF...</td>\n",
              "    </tr>\n",
              "    <tr>\n",
              "      <th>1158</th>\n",
              "      <td>10.1590/S0101-31732015000400002</td>\n",
              "      <td>PRESENTATION OF THE DOSSIER ROUSSEAU</td>\n",
              "      <td>UNESP-MARILIA</td>\n",
              "    </tr>\n",
              "    <tr>\n",
              "      <th>1159</th>\n",
              "      <td>10.1590/S1415-43662014000400013</td>\n",
              "      <td>Physiological quality of soybean seeds stored ...</td>\n",
              "      <td>UNIV FEDERAL CAMPINA GRANDE</td>\n",
              "    </tr>\n",
              "    <tr>\n",
              "      <th>1160</th>\n",
              "      <td>10.1590/S0034-89102010005000053</td>\n",
              "      <td>Ethics in the publication of studies on human ...</td>\n",
              "      <td>REVISTA DE SAUDE PUBLICA</td>\n",
              "    </tr>\n",
              "    <tr>\n",
              "      <th>1161</th>\n",
              "      <td>10.5585/iji.v4i1.67</td>\n",
              "      <td>SYSTEMATIC REVIEW OF THE LITERATURE SOCIAL ENT...</td>\n",
              "      <td>UNIV NOVE JULHO</td>\n",
              "    </tr>\n",
              "  </tbody>\n",
              "</table>\n",
              "<p>1162 rows × 3 columns</p>\n",
              "</div>\n",
              "      <button class=\"colab-df-convert\" onclick=\"convertToInteractive('df-5739dc1a-b832-43b7-b0b3-384d65d2ae11')\"\n",
              "              title=\"Convert this dataframe to an interactive table.\"\n",
              "              style=\"display:none;\">\n",
              "        \n",
              "  <svg xmlns=\"http://www.w3.org/2000/svg\" height=\"24px\"viewBox=\"0 0 24 24\"\n",
              "       width=\"24px\">\n",
              "    <path d=\"M0 0h24v24H0V0z\" fill=\"none\"/>\n",
              "    <path d=\"M18.56 5.44l.94 2.06.94-2.06 2.06-.94-2.06-.94-.94-2.06-.94 2.06-2.06.94zm-11 1L8.5 8.5l.94-2.06 2.06-.94-2.06-.94L8.5 2.5l-.94 2.06-2.06.94zm10 10l.94 2.06.94-2.06 2.06-.94-2.06-.94-.94-2.06-.94 2.06-2.06.94z\"/><path d=\"M17.41 7.96l-1.37-1.37c-.4-.4-.92-.59-1.43-.59-.52 0-1.04.2-1.43.59L10.3 9.45l-7.72 7.72c-.78.78-.78 2.05 0 2.83L4 21.41c.39.39.9.59 1.41.59.51 0 1.02-.2 1.41-.59l7.78-7.78 2.81-2.81c.8-.78.8-2.07 0-2.86zM5.41 20L4 18.59l7.72-7.72 1.47 1.35L5.41 20z\"/>\n",
              "  </svg>\n",
              "      </button>\n",
              "      \n",
              "  <style>\n",
              "    .colab-df-container {\n",
              "      display:flex;\n",
              "      flex-wrap:wrap;\n",
              "      gap: 12px;\n",
              "    }\n",
              "\n",
              "    .colab-df-convert {\n",
              "      background-color: #E8F0FE;\n",
              "      border: none;\n",
              "      border-radius: 50%;\n",
              "      cursor: pointer;\n",
              "      display: none;\n",
              "      fill: #1967D2;\n",
              "      height: 32px;\n",
              "      padding: 0 0 0 0;\n",
              "      width: 32px;\n",
              "    }\n",
              "\n",
              "    .colab-df-convert:hover {\n",
              "      background-color: #E2EBFA;\n",
              "      box-shadow: 0px 1px 2px rgba(60, 64, 67, 0.3), 0px 1px 3px 1px rgba(60, 64, 67, 0.15);\n",
              "      fill: #174EA6;\n",
              "    }\n",
              "\n",
              "    [theme=dark] .colab-df-convert {\n",
              "      background-color: #3B4455;\n",
              "      fill: #D2E3FC;\n",
              "    }\n",
              "\n",
              "    [theme=dark] .colab-df-convert:hover {\n",
              "      background-color: #434B5C;\n",
              "      box-shadow: 0px 1px 3px 1px rgba(0, 0, 0, 0.15);\n",
              "      filter: drop-shadow(0px 1px 2px rgba(0, 0, 0, 0.3));\n",
              "      fill: #FFFFFF;\n",
              "    }\n",
              "  </style>\n",
              "\n",
              "      <script>\n",
              "        const buttonEl =\n",
              "          document.querySelector('#df-5739dc1a-b832-43b7-b0b3-384d65d2ae11 button.colab-df-convert');\n",
              "        buttonEl.style.display =\n",
              "          google.colab.kernel.accessAllowed ? 'block' : 'none';\n",
              "\n",
              "        async function convertToInteractive(key) {\n",
              "          const element = document.querySelector('#df-5739dc1a-b832-43b7-b0b3-384d65d2ae11');\n",
              "          const dataTable =\n",
              "            await google.colab.kernel.invokeFunction('convertToInteractive',\n",
              "                                                     [key], {});\n",
              "          if (!dataTable) return;\n",
              "\n",
              "          const docLinkHtml = 'Like what you see? Visit the ' +\n",
              "            '<a target=\"_blank\" href=https://colab.research.google.com/notebooks/data_table.ipynb>data table notebook</a>'\n",
              "            + ' to learn more about interactive tables.';\n",
              "          element.innerHTML = '';\n",
              "          dataTable['output_type'] = 'display_data';\n",
              "          await google.colab.output.renderOutput(dataTable, element);\n",
              "          const docLink = document.createElement('div');\n",
              "          docLink.innerHTML = docLinkHtml;\n",
              "          element.appendChild(docLink);\n",
              "        }\n",
              "      </script>\n",
              "    </div>\n",
              "  </div>\n",
              "  "
            ]
          },
          "metadata": {},
          "execution_count": 101
        }
      ],
      "source": [
        "result[['DOI', 'Title', 'Affiliations']]"
      ]
    },
    {
      "cell_type": "code",
      "execution_count": 102,
      "id": "d1d2aaad",
      "metadata": {
        "id": "d1d2aaad"
      },
      "outputs": [],
      "source": [
        "result[['DOI','Affiliations']].to_csv(\"dados_para_label.tsv\", sep = \"\\t\", index=False)"
      ]
    },
    {
      "cell_type": "markdown",
      "id": "0284381d",
      "metadata": {
        "id": "0284381d"
      },
      "source": [
        "## Parte 02 - Tratamento dos dados etiquetados\n",
        "\n",
        "Os dados slecionados foram etiquetados manualmente e salvos no dataset [dados com label](https://raw.githubusercontent.com/joaograndotto/PIBITI/main/Datasets/dados_com_label.csv)"
      ]
    },
    {
      "cell_type": "code",
      "execution_count": 103,
      "id": "d5ca6f1e",
      "metadata": {
        "id": "d5ca6f1e",
        "outputId": "5d2c59da-b350-4143-c310-0a77a71f7b1b",
        "colab": {
          "base_uri": "https://localhost:8080/",
          "height": 1000
        }
      },
      "outputs": [
        {
          "output_type": "execute_result",
          "data": {
            "text/plain": [
              "                                  DOI  \\\n",
              "0        10.1016/j.nonrwa.2021.103406   \n",
              "1        10.1007/978-3-030-79165-0_25   \n",
              "2            10.1590/1519-6984.245368   \n",
              "3            10.1590/1519-6984.234476   \n",
              "4          10.1038/s41598-021-97854-8   \n",
              "...                               ...   \n",
              "1157        10.31977/grirfi.v16i2.774   \n",
              "1158  10.1590/S0101-31732015000400002   \n",
              "1159  10.1590/S1415-43662014000400013   \n",
              "1160  10.1590/S0034-89102010005000053   \n",
              "1161              10.5585/iji.v4i1.67   \n",
              "\n",
              "                                                  Title  Year  \\\n",
              "0     Classical solution for a nonlinear hybrid syst...  2022   \n",
              "1     An Innovative Textile Product Proposal Based o...  2022   \n",
              "2     Detection of enteroparasites in foliar vegetab...  2022   \n",
              "3     Phytochemical characterization, and antioxidan...  2022   \n",
              "4     Stability analysis of reference genes for RT-q...  2021   \n",
              "...                                                 ...   ...   \n",
              "1157  HUMAN RIGHTS: FROM THE UNIFORMITY OF THE SPECI...  2017   \n",
              "1158               PRESENTATION OF THE DOSSIER ROUSSEAU  2015   \n",
              "1159  Physiological quality of soybean seeds stored ...  2014   \n",
              "1160  Ethics in the publication of studies on human ...  2011   \n",
              "1161  SYSTEMATIC REVIEW OF THE LITERATURE SOCIAL ENT...  2016   \n",
              "\n",
              "                                           Affiliations  \\\n",
              "0     Instituto Federal de Goiás-IFG, Campus Goiânia...   \n",
              "1     Instituto Federal de Goiás (IFG), Aparecida de...   \n",
              "2     Instituto Federal de Educação, Ciência e Tecno...   \n",
              "3     Universidade Federal de Goiás – UFG, Rede Pró ...   \n",
              "4     Department of Agronomy, Universidade Federal R...   \n",
              "...                                                 ...   \n",
              "1157  UNIV FED RECONCAVO BAHIA, CENTRO FORMACAO PROF...   \n",
              "1158                                      UNESP-MARILIA   \n",
              "1159                        UNIV FEDERAL CAMPINA GRANDE   \n",
              "1160                           REVISTA DE SAUDE PUBLICA   \n",
              "1161                                    UNIV NOVE JULHO   \n",
              "\n",
              "                     Campus                          Institution  \n",
              "0                   Goiânia           Instituto Federal de Goiás  \n",
              "1     Aparecida de Goiânia            Instituto Federal de Goiás  \n",
              "2     Aparecida de Goiânia            Instituto Federal de Goiás  \n",
              "3                   Goiânia           Instituto Federal de Goiás  \n",
              "4              Águas Lindas           Instituto Federal de Goiás  \n",
              "...                     ...                                  ...  \n",
              "1157                  Bahia       Universidade Federal Reconcavo  \n",
              "1158                Marilia                                UNESP  \n",
              "1159         Campina Grande  Universidade Federal Campina Grande  \n",
              "1160                 Brasil                Revista Saude Publica  \n",
              "1161                 Brasil              Universidade Nove Julho  \n",
              "\n",
              "[1162 rows x 6 columns]"
            ],
            "text/html": [
              "\n",
              "  <div id=\"df-341daf4c-7b05-43d1-9193-4674edd99b23\">\n",
              "    <div class=\"colab-df-container\">\n",
              "      <div>\n",
              "<style scoped>\n",
              "    .dataframe tbody tr th:only-of-type {\n",
              "        vertical-align: middle;\n",
              "    }\n",
              "\n",
              "    .dataframe tbody tr th {\n",
              "        vertical-align: top;\n",
              "    }\n",
              "\n",
              "    .dataframe thead th {\n",
              "        text-align: right;\n",
              "    }\n",
              "</style>\n",
              "<table border=\"1\" class=\"dataframe\">\n",
              "  <thead>\n",
              "    <tr style=\"text-align: right;\">\n",
              "      <th></th>\n",
              "      <th>DOI</th>\n",
              "      <th>Title</th>\n",
              "      <th>Year</th>\n",
              "      <th>Affiliations</th>\n",
              "      <th>Campus</th>\n",
              "      <th>Institution</th>\n",
              "    </tr>\n",
              "  </thead>\n",
              "  <tbody>\n",
              "    <tr>\n",
              "      <th>0</th>\n",
              "      <td>10.1016/j.nonrwa.2021.103406</td>\n",
              "      <td>Classical solution for a nonlinear hybrid syst...</td>\n",
              "      <td>2022</td>\n",
              "      <td>Instituto Federal de Goiás-IFG, Campus Goiânia...</td>\n",
              "      <td>Goiânia</td>\n",
              "      <td>Instituto Federal de Goiás</td>\n",
              "    </tr>\n",
              "    <tr>\n",
              "      <th>1</th>\n",
              "      <td>10.1007/978-3-030-79165-0_25</td>\n",
              "      <td>An Innovative Textile Product Proposal Based o...</td>\n",
              "      <td>2022</td>\n",
              "      <td>Instituto Federal de Goiás (IFG), Aparecida de...</td>\n",
              "      <td>Aparecida de Goiânia</td>\n",
              "      <td>Instituto Federal de Goiás</td>\n",
              "    </tr>\n",
              "    <tr>\n",
              "      <th>2</th>\n",
              "      <td>10.1590/1519-6984.245368</td>\n",
              "      <td>Detection of enteroparasites in foliar vegetab...</td>\n",
              "      <td>2022</td>\n",
              "      <td>Instituto Federal de Educação, Ciência e Tecno...</td>\n",
              "      <td>Aparecida de Goiânia</td>\n",
              "      <td>Instituto Federal de Goiás</td>\n",
              "    </tr>\n",
              "    <tr>\n",
              "      <th>3</th>\n",
              "      <td>10.1590/1519-6984.234476</td>\n",
              "      <td>Phytochemical characterization, and antioxidan...</td>\n",
              "      <td>2022</td>\n",
              "      <td>Universidade Federal de Goiás – UFG, Rede Pró ...</td>\n",
              "      <td>Goiânia</td>\n",
              "      <td>Instituto Federal de Goiás</td>\n",
              "    </tr>\n",
              "    <tr>\n",
              "      <th>4</th>\n",
              "      <td>10.1038/s41598-021-97854-8</td>\n",
              "      <td>Stability analysis of reference genes for RT-q...</td>\n",
              "      <td>2021</td>\n",
              "      <td>Department of Agronomy, Universidade Federal R...</td>\n",
              "      <td>Águas Lindas</td>\n",
              "      <td>Instituto Federal de Goiás</td>\n",
              "    </tr>\n",
              "    <tr>\n",
              "      <th>...</th>\n",
              "      <td>...</td>\n",
              "      <td>...</td>\n",
              "      <td>...</td>\n",
              "      <td>...</td>\n",
              "      <td>...</td>\n",
              "      <td>...</td>\n",
              "    </tr>\n",
              "    <tr>\n",
              "      <th>1157</th>\n",
              "      <td>10.31977/grirfi.v16i2.774</td>\n",
              "      <td>HUMAN RIGHTS: FROM THE UNIFORMITY OF THE SPECI...</td>\n",
              "      <td>2017</td>\n",
              "      <td>UNIV FED RECONCAVO BAHIA, CENTRO FORMACAO PROF...</td>\n",
              "      <td>Bahia</td>\n",
              "      <td>Universidade Federal Reconcavo</td>\n",
              "    </tr>\n",
              "    <tr>\n",
              "      <th>1158</th>\n",
              "      <td>10.1590/S0101-31732015000400002</td>\n",
              "      <td>PRESENTATION OF THE DOSSIER ROUSSEAU</td>\n",
              "      <td>2015</td>\n",
              "      <td>UNESP-MARILIA</td>\n",
              "      <td>Marilia</td>\n",
              "      <td>UNESP</td>\n",
              "    </tr>\n",
              "    <tr>\n",
              "      <th>1159</th>\n",
              "      <td>10.1590/S1415-43662014000400013</td>\n",
              "      <td>Physiological quality of soybean seeds stored ...</td>\n",
              "      <td>2014</td>\n",
              "      <td>UNIV FEDERAL CAMPINA GRANDE</td>\n",
              "      <td>Campina Grande</td>\n",
              "      <td>Universidade Federal Campina Grande</td>\n",
              "    </tr>\n",
              "    <tr>\n",
              "      <th>1160</th>\n",
              "      <td>10.1590/S0034-89102010005000053</td>\n",
              "      <td>Ethics in the publication of studies on human ...</td>\n",
              "      <td>2011</td>\n",
              "      <td>REVISTA DE SAUDE PUBLICA</td>\n",
              "      <td>Brasil</td>\n",
              "      <td>Revista Saude Publica</td>\n",
              "    </tr>\n",
              "    <tr>\n",
              "      <th>1161</th>\n",
              "      <td>10.5585/iji.v4i1.67</td>\n",
              "      <td>SYSTEMATIC REVIEW OF THE LITERATURE SOCIAL ENT...</td>\n",
              "      <td>2016</td>\n",
              "      <td>UNIV NOVE JULHO</td>\n",
              "      <td>Brasil</td>\n",
              "      <td>Universidade Nove Julho</td>\n",
              "    </tr>\n",
              "  </tbody>\n",
              "</table>\n",
              "<p>1162 rows × 6 columns</p>\n",
              "</div>\n",
              "      <button class=\"colab-df-convert\" onclick=\"convertToInteractive('df-341daf4c-7b05-43d1-9193-4674edd99b23')\"\n",
              "              title=\"Convert this dataframe to an interactive table.\"\n",
              "              style=\"display:none;\">\n",
              "        \n",
              "  <svg xmlns=\"http://www.w3.org/2000/svg\" height=\"24px\"viewBox=\"0 0 24 24\"\n",
              "       width=\"24px\">\n",
              "    <path d=\"M0 0h24v24H0V0z\" fill=\"none\"/>\n",
              "    <path d=\"M18.56 5.44l.94 2.06.94-2.06 2.06-.94-2.06-.94-.94-2.06-.94 2.06-2.06.94zm-11 1L8.5 8.5l.94-2.06 2.06-.94-2.06-.94L8.5 2.5l-.94 2.06-2.06.94zm10 10l.94 2.06.94-2.06 2.06-.94-2.06-.94-.94-2.06-.94 2.06-2.06.94z\"/><path d=\"M17.41 7.96l-1.37-1.37c-.4-.4-.92-.59-1.43-.59-.52 0-1.04.2-1.43.59L10.3 9.45l-7.72 7.72c-.78.78-.78 2.05 0 2.83L4 21.41c.39.39.9.59 1.41.59.51 0 1.02-.2 1.41-.59l7.78-7.78 2.81-2.81c.8-.78.8-2.07 0-2.86zM5.41 20L4 18.59l7.72-7.72 1.47 1.35L5.41 20z\"/>\n",
              "  </svg>\n",
              "      </button>\n",
              "      \n",
              "  <style>\n",
              "    .colab-df-container {\n",
              "      display:flex;\n",
              "      flex-wrap:wrap;\n",
              "      gap: 12px;\n",
              "    }\n",
              "\n",
              "    .colab-df-convert {\n",
              "      background-color: #E8F0FE;\n",
              "      border: none;\n",
              "      border-radius: 50%;\n",
              "      cursor: pointer;\n",
              "      display: none;\n",
              "      fill: #1967D2;\n",
              "      height: 32px;\n",
              "      padding: 0 0 0 0;\n",
              "      width: 32px;\n",
              "    }\n",
              "\n",
              "    .colab-df-convert:hover {\n",
              "      background-color: #E2EBFA;\n",
              "      box-shadow: 0px 1px 2px rgba(60, 64, 67, 0.3), 0px 1px 3px 1px rgba(60, 64, 67, 0.15);\n",
              "      fill: #174EA6;\n",
              "    }\n",
              "\n",
              "    [theme=dark] .colab-df-convert {\n",
              "      background-color: #3B4455;\n",
              "      fill: #D2E3FC;\n",
              "    }\n",
              "\n",
              "    [theme=dark] .colab-df-convert:hover {\n",
              "      background-color: #434B5C;\n",
              "      box-shadow: 0px 1px 3px 1px rgba(0, 0, 0, 0.15);\n",
              "      filter: drop-shadow(0px 1px 2px rgba(0, 0, 0, 0.3));\n",
              "      fill: #FFFFFF;\n",
              "    }\n",
              "  </style>\n",
              "\n",
              "      <script>\n",
              "        const buttonEl =\n",
              "          document.querySelector('#df-341daf4c-7b05-43d1-9193-4674edd99b23 button.colab-df-convert');\n",
              "        buttonEl.style.display =\n",
              "          google.colab.kernel.accessAllowed ? 'block' : 'none';\n",
              "\n",
              "        async function convertToInteractive(key) {\n",
              "          const element = document.querySelector('#df-341daf4c-7b05-43d1-9193-4674edd99b23');\n",
              "          const dataTable =\n",
              "            await google.colab.kernel.invokeFunction('convertToInteractive',\n",
              "                                                     [key], {});\n",
              "          if (!dataTable) return;\n",
              "\n",
              "          const docLinkHtml = 'Like what you see? Visit the ' +\n",
              "            '<a target=\"_blank\" href=https://colab.research.google.com/notebooks/data_table.ipynb>data table notebook</a>'\n",
              "            + ' to learn more about interactive tables.';\n",
              "          element.innerHTML = '';\n",
              "          dataTable['output_type'] = 'display_data';\n",
              "          await google.colab.output.renderOutput(dataTable, element);\n",
              "          const docLink = document.createElement('div');\n",
              "          docLink.innerHTML = docLinkHtml;\n",
              "          element.appendChild(docLink);\n",
              "        }\n",
              "      </script>\n",
              "    </div>\n",
              "  </div>\n",
              "  "
            ]
          },
          "metadata": {},
          "execution_count": 103
        }
      ],
      "source": [
        "url = 'https://raw.githubusercontent.com/joaograndotto/PIBITI/main/Datasets/dados_com_label.csv'\n",
        "dataset = pd.read_csv(url, sep=\",\" )\n",
        "dataset"
      ]
    },
    {
      "cell_type": "markdown",
      "id": "8d85d498",
      "metadata": {
        "id": "8d85d498"
      },
      "source": [
        "### Separando o dataset em treino e teste"
      ]
    },
    {
      "cell_type": "code",
      "execution_count": 104,
      "id": "101be259",
      "metadata": {
        "id": "101be259"
      },
      "outputs": [],
      "source": [
        "train_dataset = dataset.sample(frac = 0.9, random_state = 25)\n",
        "test_dataset  = dataset.drop(train_dataset.index)"
      ]
    },
    {
      "cell_type": "code",
      "execution_count": 105,
      "id": "ad971a7c",
      "metadata": {
        "id": "ad971a7c",
        "outputId": "61cfaba9-22c1-4dcc-b8f2-c5d3582b3cc0",
        "colab": {
          "base_uri": "https://localhost:8080/"
        }
      },
      "outputs": [
        {
          "output_type": "execute_result",
          "data": {
            "text/plain": [
              "(1046, 6)"
            ]
          },
          "metadata": {},
          "execution_count": 105
        }
      ],
      "source": [
        "train_dataset.shape"
      ]
    },
    {
      "cell_type": "code",
      "execution_count": 106,
      "id": "b6eff3ac",
      "metadata": {
        "id": "b6eff3ac",
        "outputId": "9267b8de-0aed-4ed6-9f50-7c8450668b59",
        "colab": {
          "base_uri": "https://localhost:8080/"
        }
      },
      "outputs": [
        {
          "output_type": "execute_result",
          "data": {
            "text/plain": [
              "(116, 6)"
            ]
          },
          "metadata": {},
          "execution_count": 106
        }
      ],
      "source": [
        "test_dataset.shape"
      ]
    },
    {
      "cell_type": "markdown",
      "id": "7f644f78",
      "metadata": {
        "id": "7f644f78"
      },
      "source": [
        "# Classificação de texto [prova de conceito]\n",
        "\n",
        "## Classificação\n",
        "\n",
        "Em aprendizado de máquina, a classificação é a tarefa de agrupamento dos dados em diferentes classes, grupos ou partes. \n",
        "\n",
        "Por exemplo, se tomarmos os dados de vitórias, empates ou derrotas de um jogador de bilhar ao longo do tempo, podemos classificá-lo em um dado período como \"em forma\" ou \"fora de forma\" de acordo com seu desempenho. Uma vez que o modelo aprende a classificar com este jogador, é possível aplicar o mesmo modelo a outros jogadores de bilhar.\n",
        "\n",
        "### Classificação binária\n",
        "\n",
        "É o processo de classificação no qual elementos de um conjunto de dados são classificados em 2 classes. Um dos exemplos mais recorrentes é a classificação de e-mails como \"*spam*\" ou \"não *spam*\" com base em palavras-chave. A partir de um conjunto de textos de e-mail previamente etiquetados como *spam* ou não, constrói-se um modelo capaz de reconhecer características do texto e separar o texto no conjunto *spam* ou não *spam*. Uma vez construído o modelo, ele pode ser aplicado a qualquer outro texto para classificá-lo como *spam* ou não."
      ]
    },
    {
      "cell_type": "code",
      "execution_count": 107,
      "id": "acfb7a5e",
      "metadata": {
        "id": "acfb7a5e"
      },
      "outputs": [],
      "source": [
        "#! pip install nltk"
      ]
    },
    {
      "cell_type": "code",
      "execution_count": 108,
      "id": "20618ee2",
      "metadata": {
        "id": "20618ee2",
        "outputId": "d902cc72-afae-477f-aa34-c10d01fead32",
        "colab": {
          "base_uri": "https://localhost:8080/"
        }
      },
      "outputs": [
        {
          "output_type": "stream",
          "name": "stderr",
          "text": [
            "[nltk_data] Downloading package stopwords to /root/nltk_data...\n",
            "[nltk_data]   Package stopwords is already up-to-date!\n"
          ]
        }
      ],
      "source": [
        "import numpy as np\n",
        "import re\n",
        "import nltk\n",
        "from sklearn.datasets import load_files\n",
        "nltk.download('stopwords')\n",
        "import pickle\n",
        "from nltk.corpus import stopwords"
      ]
    },
    {
      "cell_type": "code",
      "execution_count": 109,
      "id": "aec84b23",
      "metadata": {
        "id": "aec84b23",
        "outputId": "825c83d1-0c26-4f23-8a15-6d22d0c89948",
        "colab": {
          "base_uri": "https://localhost:8080/"
        }
      },
      "outputs": [
        {
          "output_type": "execute_result",
          "data": {
            "text/plain": [
              "['a',\n",
              " 'à',\n",
              " 'ao',\n",
              " 'aos',\n",
              " 'aquela',\n",
              " 'aquelas',\n",
              " 'aquele',\n",
              " 'aqueles',\n",
              " 'aquilo',\n",
              " 'as']"
            ]
          },
          "metadata": {},
          "execution_count": 109
        }
      ],
      "source": [
        "stopwords.words('portuguese')[:10]"
      ]
    },
    {
      "cell_type": "code",
      "execution_count": 110,
      "id": "720a28db",
      "metadata": {
        "id": "720a28db",
        "outputId": "3dc84780-c058-4e6a-90ee-c4053d0dd467",
        "colab": {
          "base_uri": "https://localhost:8080/"
        }
      },
      "outputs": [
        {
          "output_type": "execute_result",
          "data": {
            "text/plain": [
              "['i', 'me', 'my', 'myself', 'we', 'our', 'ours', 'ourselves', 'you', \"you're\"]"
            ]
          },
          "metadata": {},
          "execution_count": 110
        }
      ],
      "source": [
        "stopwords.words('english')[:10]"
      ]
    },
    {
      "cell_type": "code",
      "execution_count": 111,
      "id": "0275bf3a",
      "metadata": {
        "id": "0275bf3a",
        "outputId": "13088fd7-3456-4242-82ef-57c51568f717",
        "colab": {
          "base_uri": "https://localhost:8080/"
        }
      },
      "outputs": [
        {
          "output_type": "execute_result",
          "data": {
            "text/plain": [
              "['aber', 'alle', 'allem', 'allen', 'aller', 'alles', 'als', 'also', 'am', 'an']"
            ]
          },
          "metadata": {},
          "execution_count": 111
        }
      ],
      "source": [
        "stopwords.words('german')[:10]"
      ]
    },
    {
      "cell_type": "code",
      "execution_count": 112,
      "id": "f9b386c1",
      "metadata": {
        "id": "f9b386c1",
        "outputId": "49c94c20-f9b7-4a27-ee0b-5e0f3eff1c90",
        "colab": {
          "base_uri": "https://localhost:8080/"
        }
      },
      "outputs": [
        {
          "output_type": "execute_result",
          "data": {
            "text/plain": [
              "['de', 'la', 'que', 'el', 'en', 'y', 'a', 'los', 'del', 'se']"
            ]
          },
          "metadata": {},
          "execution_count": 112
        }
      ],
      "source": [
        "stopwords.words('spanish')[:10]"
      ]
    },
    {
      "cell_type": "code",
      "execution_count": 113,
      "id": "bbb7e9fc",
      "metadata": {
        "id": "bbb7e9fc"
      },
      "outputs": [],
      "source": [
        "palavrasIgnoradas = \\\n",
        "    stopwords.words('portuguese') + \\\n",
        "    stopwords.words('english') + \\\n",
        "    stopwords.words('german') + \\\n",
        "    stopwords.words('spanish')"
      ]
    },
    {
      "cell_type": "code",
      "execution_count": 114,
      "id": "cbf7ba94",
      "metadata": {
        "id": "cbf7ba94",
        "outputId": "39c7edda-37ea-4a71-8218-f6921d25df23",
        "colab": {
          "base_uri": "https://localhost:8080/"
        }
      },
      "outputs": [
        {
          "output_type": "execute_result",
          "data": {
            "text/plain": [
              "['now', 'suas', 'fue', 'haya', 'up', 'euer', 'tendrían', 'my', 'wird', 'can']"
            ]
          },
          "metadata": {},
          "execution_count": 114
        }
      ],
      "source": [
        "import random\n",
        "random.sample(palavrasIgnoradas, 10)"
      ]
    },
    {
      "cell_type": "markdown",
      "id": "11943a3e",
      "metadata": {
        "id": "11943a3e"
      },
      "source": [
        "### Dataset com dados etiquetados (apredizado supervisionado)"
      ]
    },
    {
      "cell_type": "code",
      "execution_count": 115,
      "id": "c1514dde",
      "metadata": {
        "id": "c1514dde"
      },
      "outputs": [],
      "source": [
        "import numpy as np\n",
        "import matplotlib.pyplot as plt\n",
        "from sklearn import svm\n",
        "from sklearn.datasets import make_blobs\n",
        "import pandas as pd"
      ]
    },
    {
      "cell_type": "code",
      "execution_count": 116,
      "id": "5dc95691",
      "metadata": {
        "id": "5dc95691"
      },
      "outputs": [],
      "source": [
        "url = 'https://raw.githubusercontent.com/joaograndotto/PIBITI/main/Datasets/dados_com_label.csv'\n",
        "dataset = pd.read_csv(url, sep=\",\" )"
      ]
    },
    {
      "cell_type": "code",
      "execution_count": 117,
      "id": "0ccf66cb",
      "metadata": {
        "id": "0ccf66cb",
        "outputId": "873675ed-e0c2-41a9-934c-5bae4b2abb89",
        "colab": {
          "base_uri": "https://localhost:8080/",
          "height": 240
        }
      },
      "outputs": [
        {
          "output_type": "execute_result",
          "data": {
            "text/plain": [
              "                       DOI                                              Title  \\\n",
              "1143  10.1093/nar/26.1.297    IMGT, the international ImMunoGeneTics database   \n",
              "585      10.1116/1.4947047  Differences in intracellular calcium dynamics ...   \n",
              "692     10.1039/c4ja00461b  Depth profiling of low energy ion implantation...   \n",
              "\n",
              "      Year                                       Affiliations  \\\n",
              "1143  1998  Lab. d'ImmunoGenetique Molec., LIGM, UMR 5535,...   \n",
              "585   2016  Biosurfaces, CIC biomaGUNE, Paseo Miramón 182,...   \n",
              "692   2015  Department of Physics, University of Fribourg,...   \n",
              "\n",
              "                         Campus                                 Institution  \n",
              "1143                    Germany                         Universität zu Köln  \n",
              "585    Eggenstein-Leopoldshafen          Institute of Functional Interfaces  \n",
              "692                      Berlin   Institute for Scientific Instruments GmbH  "
            ],
            "text/html": [
              "\n",
              "  <div id=\"df-1da17753-c416-4f17-8b79-b13a2b6a8673\">\n",
              "    <div class=\"colab-df-container\">\n",
              "      <div>\n",
              "<style scoped>\n",
              "    .dataframe tbody tr th:only-of-type {\n",
              "        vertical-align: middle;\n",
              "    }\n",
              "\n",
              "    .dataframe tbody tr th {\n",
              "        vertical-align: top;\n",
              "    }\n",
              "\n",
              "    .dataframe thead th {\n",
              "        text-align: right;\n",
              "    }\n",
              "</style>\n",
              "<table border=\"1\" class=\"dataframe\">\n",
              "  <thead>\n",
              "    <tr style=\"text-align: right;\">\n",
              "      <th></th>\n",
              "      <th>DOI</th>\n",
              "      <th>Title</th>\n",
              "      <th>Year</th>\n",
              "      <th>Affiliations</th>\n",
              "      <th>Campus</th>\n",
              "      <th>Institution</th>\n",
              "    </tr>\n",
              "  </thead>\n",
              "  <tbody>\n",
              "    <tr>\n",
              "      <th>1143</th>\n",
              "      <td>10.1093/nar/26.1.297</td>\n",
              "      <td>IMGT, the international ImMunoGeneTics database</td>\n",
              "      <td>1998</td>\n",
              "      <td>Lab. d'ImmunoGenetique Molec., LIGM, UMR 5535,...</td>\n",
              "      <td>Germany</td>\n",
              "      <td>Universität zu Köln</td>\n",
              "    </tr>\n",
              "    <tr>\n",
              "      <th>585</th>\n",
              "      <td>10.1116/1.4947047</td>\n",
              "      <td>Differences in intracellular calcium dynamics ...</td>\n",
              "      <td>2016</td>\n",
              "      <td>Biosurfaces, CIC biomaGUNE, Paseo Miramón 182,...</td>\n",
              "      <td>Eggenstein-Leopoldshafen</td>\n",
              "      <td>Institute of Functional Interfaces</td>\n",
              "    </tr>\n",
              "    <tr>\n",
              "      <th>692</th>\n",
              "      <td>10.1039/c4ja00461b</td>\n",
              "      <td>Depth profiling of low energy ion implantation...</td>\n",
              "      <td>2015</td>\n",
              "      <td>Department of Physics, University of Fribourg,...</td>\n",
              "      <td>Berlin</td>\n",
              "      <td>Institute for Scientific Instruments GmbH</td>\n",
              "    </tr>\n",
              "  </tbody>\n",
              "</table>\n",
              "</div>\n",
              "      <button class=\"colab-df-convert\" onclick=\"convertToInteractive('df-1da17753-c416-4f17-8b79-b13a2b6a8673')\"\n",
              "              title=\"Convert this dataframe to an interactive table.\"\n",
              "              style=\"display:none;\">\n",
              "        \n",
              "  <svg xmlns=\"http://www.w3.org/2000/svg\" height=\"24px\"viewBox=\"0 0 24 24\"\n",
              "       width=\"24px\">\n",
              "    <path d=\"M0 0h24v24H0V0z\" fill=\"none\"/>\n",
              "    <path d=\"M18.56 5.44l.94 2.06.94-2.06 2.06-.94-2.06-.94-.94-2.06-.94 2.06-2.06.94zm-11 1L8.5 8.5l.94-2.06 2.06-.94-2.06-.94L8.5 2.5l-.94 2.06-2.06.94zm10 10l.94 2.06.94-2.06 2.06-.94-2.06-.94-.94-2.06-.94 2.06-2.06.94z\"/><path d=\"M17.41 7.96l-1.37-1.37c-.4-.4-.92-.59-1.43-.59-.52 0-1.04.2-1.43.59L10.3 9.45l-7.72 7.72c-.78.78-.78 2.05 0 2.83L4 21.41c.39.39.9.59 1.41.59.51 0 1.02-.2 1.41-.59l7.78-7.78 2.81-2.81c.8-.78.8-2.07 0-2.86zM5.41 20L4 18.59l7.72-7.72 1.47 1.35L5.41 20z\"/>\n",
              "  </svg>\n",
              "      </button>\n",
              "      \n",
              "  <style>\n",
              "    .colab-df-container {\n",
              "      display:flex;\n",
              "      flex-wrap:wrap;\n",
              "      gap: 12px;\n",
              "    }\n",
              "\n",
              "    .colab-df-convert {\n",
              "      background-color: #E8F0FE;\n",
              "      border: none;\n",
              "      border-radius: 50%;\n",
              "      cursor: pointer;\n",
              "      display: none;\n",
              "      fill: #1967D2;\n",
              "      height: 32px;\n",
              "      padding: 0 0 0 0;\n",
              "      width: 32px;\n",
              "    }\n",
              "\n",
              "    .colab-df-convert:hover {\n",
              "      background-color: #E2EBFA;\n",
              "      box-shadow: 0px 1px 2px rgba(60, 64, 67, 0.3), 0px 1px 3px 1px rgba(60, 64, 67, 0.15);\n",
              "      fill: #174EA6;\n",
              "    }\n",
              "\n",
              "    [theme=dark] .colab-df-convert {\n",
              "      background-color: #3B4455;\n",
              "      fill: #D2E3FC;\n",
              "    }\n",
              "\n",
              "    [theme=dark] .colab-df-convert:hover {\n",
              "      background-color: #434B5C;\n",
              "      box-shadow: 0px 1px 3px 1px rgba(0, 0, 0, 0.15);\n",
              "      filter: drop-shadow(0px 1px 2px rgba(0, 0, 0, 0.3));\n",
              "      fill: #FFFFFF;\n",
              "    }\n",
              "  </style>\n",
              "\n",
              "      <script>\n",
              "        const buttonEl =\n",
              "          document.querySelector('#df-1da17753-c416-4f17-8b79-b13a2b6a8673 button.colab-df-convert');\n",
              "        buttonEl.style.display =\n",
              "          google.colab.kernel.accessAllowed ? 'block' : 'none';\n",
              "\n",
              "        async function convertToInteractive(key) {\n",
              "          const element = document.querySelector('#df-1da17753-c416-4f17-8b79-b13a2b6a8673');\n",
              "          const dataTable =\n",
              "            await google.colab.kernel.invokeFunction('convertToInteractive',\n",
              "                                                     [key], {});\n",
              "          if (!dataTable) return;\n",
              "\n",
              "          const docLinkHtml = 'Like what you see? Visit the ' +\n",
              "            '<a target=\"_blank\" href=https://colab.research.google.com/notebooks/data_table.ipynb>data table notebook</a>'\n",
              "            + ' to learn more about interactive tables.';\n",
              "          element.innerHTML = '';\n",
              "          dataTable['output_type'] = 'display_data';\n",
              "          await google.colab.output.renderOutput(dataTable, element);\n",
              "          const docLink = document.createElement('div');\n",
              "          docLink.innerHTML = docLinkHtml;\n",
              "          element.appendChild(docLink);\n",
              "        }\n",
              "      </script>\n",
              "    </div>\n",
              "  </div>\n",
              "  "
            ]
          },
          "metadata": {},
          "execution_count": 117
        }
      ],
      "source": [
        "dataset.sample(n=3)"
      ]
    },
    {
      "cell_type": "code",
      "execution_count": 118,
      "id": "3d8343f9",
      "metadata": {
        "id": "3d8343f9"
      },
      "outputs": [],
      "source": [
        "dataset['IFG'] = dataset['Institution'].apply(lambda x: 1 if str(x).strip() == \"Instituto Federal de Goiás\" else 0)"
      ]
    },
    {
      "cell_type": "code",
      "execution_count": 119,
      "id": "e16793a8",
      "metadata": {
        "id": "e16793a8",
        "outputId": "684a727c-e62f-4d50-f609-c6817dd229e4",
        "colab": {
          "base_uri": "https://localhost:8080/",
          "height": 240
        }
      },
      "outputs": [
        {
          "output_type": "execute_result",
          "data": {
            "text/plain": [
              "                               DOI  \\\n",
              "455  10.1016/j.radmeas.2017.05.015   \n",
              "490       10.1088/1361-6528/aa5cf5   \n",
              "710       10.3389/fmats.2015.00007   \n",
              "\n",
              "                                                 Title  Year  \\\n",
              "455  Lithium diborate glass for high-dose dosimetry...  2017   \n",
              "490  Electrodeposition of WO3 nanoparticles into su...  2017   \n",
              "710                 Covalently linked organic networks  2015   \n",
              "\n",
              "                                          Affiliations  \\\n",
              "455  Instituto Federal de Educação, Ciência e Tecno...   \n",
              "490  Department of Chemistry and Chemical Engineeri...   \n",
              "710  Engineering and Science, Jacobs University Bre...   \n",
              "\n",
              "                        Campus                         Institution  IFG  \n",
              "455                    Goiânia         Instituto Federal de Goiás     1  \n",
              "490   Eggenstein-Leopoldshafen  Institute of Functional Interfaces    0  \n",
              "710   Eggenstein-Leopoldshafen  Institute of Functional Interfaces    0  "
            ],
            "text/html": [
              "\n",
              "  <div id=\"df-18b5382d-b876-4f51-a48a-257fcd2c3545\">\n",
              "    <div class=\"colab-df-container\">\n",
              "      <div>\n",
              "<style scoped>\n",
              "    .dataframe tbody tr th:only-of-type {\n",
              "        vertical-align: middle;\n",
              "    }\n",
              "\n",
              "    .dataframe tbody tr th {\n",
              "        vertical-align: top;\n",
              "    }\n",
              "\n",
              "    .dataframe thead th {\n",
              "        text-align: right;\n",
              "    }\n",
              "</style>\n",
              "<table border=\"1\" class=\"dataframe\">\n",
              "  <thead>\n",
              "    <tr style=\"text-align: right;\">\n",
              "      <th></th>\n",
              "      <th>DOI</th>\n",
              "      <th>Title</th>\n",
              "      <th>Year</th>\n",
              "      <th>Affiliations</th>\n",
              "      <th>Campus</th>\n",
              "      <th>Institution</th>\n",
              "      <th>IFG</th>\n",
              "    </tr>\n",
              "  </thead>\n",
              "  <tbody>\n",
              "    <tr>\n",
              "      <th>455</th>\n",
              "      <td>10.1016/j.radmeas.2017.05.015</td>\n",
              "      <td>Lithium diborate glass for high-dose dosimetry...</td>\n",
              "      <td>2017</td>\n",
              "      <td>Instituto Federal de Educação, Ciência e Tecno...</td>\n",
              "      <td>Goiânia</td>\n",
              "      <td>Instituto Federal de Goiás</td>\n",
              "      <td>1</td>\n",
              "    </tr>\n",
              "    <tr>\n",
              "      <th>490</th>\n",
              "      <td>10.1088/1361-6528/aa5cf5</td>\n",
              "      <td>Electrodeposition of WO3 nanoparticles into su...</td>\n",
              "      <td>2017</td>\n",
              "      <td>Department of Chemistry and Chemical Engineeri...</td>\n",
              "      <td>Eggenstein-Leopoldshafen</td>\n",
              "      <td>Institute of Functional Interfaces</td>\n",
              "      <td>0</td>\n",
              "    </tr>\n",
              "    <tr>\n",
              "      <th>710</th>\n",
              "      <td>10.3389/fmats.2015.00007</td>\n",
              "      <td>Covalently linked organic networks</td>\n",
              "      <td>2015</td>\n",
              "      <td>Engineering and Science, Jacobs University Bre...</td>\n",
              "      <td>Eggenstein-Leopoldshafen</td>\n",
              "      <td>Institute of Functional Interfaces</td>\n",
              "      <td>0</td>\n",
              "    </tr>\n",
              "  </tbody>\n",
              "</table>\n",
              "</div>\n",
              "      <button class=\"colab-df-convert\" onclick=\"convertToInteractive('df-18b5382d-b876-4f51-a48a-257fcd2c3545')\"\n",
              "              title=\"Convert this dataframe to an interactive table.\"\n",
              "              style=\"display:none;\">\n",
              "        \n",
              "  <svg xmlns=\"http://www.w3.org/2000/svg\" height=\"24px\"viewBox=\"0 0 24 24\"\n",
              "       width=\"24px\">\n",
              "    <path d=\"M0 0h24v24H0V0z\" fill=\"none\"/>\n",
              "    <path d=\"M18.56 5.44l.94 2.06.94-2.06 2.06-.94-2.06-.94-.94-2.06-.94 2.06-2.06.94zm-11 1L8.5 8.5l.94-2.06 2.06-.94-2.06-.94L8.5 2.5l-.94 2.06-2.06.94zm10 10l.94 2.06.94-2.06 2.06-.94-2.06-.94-.94-2.06-.94 2.06-2.06.94z\"/><path d=\"M17.41 7.96l-1.37-1.37c-.4-.4-.92-.59-1.43-.59-.52 0-1.04.2-1.43.59L10.3 9.45l-7.72 7.72c-.78.78-.78 2.05 0 2.83L4 21.41c.39.39.9.59 1.41.59.51 0 1.02-.2 1.41-.59l7.78-7.78 2.81-2.81c.8-.78.8-2.07 0-2.86zM5.41 20L4 18.59l7.72-7.72 1.47 1.35L5.41 20z\"/>\n",
              "  </svg>\n",
              "      </button>\n",
              "      \n",
              "  <style>\n",
              "    .colab-df-container {\n",
              "      display:flex;\n",
              "      flex-wrap:wrap;\n",
              "      gap: 12px;\n",
              "    }\n",
              "\n",
              "    .colab-df-convert {\n",
              "      background-color: #E8F0FE;\n",
              "      border: none;\n",
              "      border-radius: 50%;\n",
              "      cursor: pointer;\n",
              "      display: none;\n",
              "      fill: #1967D2;\n",
              "      height: 32px;\n",
              "      padding: 0 0 0 0;\n",
              "      width: 32px;\n",
              "    }\n",
              "\n",
              "    .colab-df-convert:hover {\n",
              "      background-color: #E2EBFA;\n",
              "      box-shadow: 0px 1px 2px rgba(60, 64, 67, 0.3), 0px 1px 3px 1px rgba(60, 64, 67, 0.15);\n",
              "      fill: #174EA6;\n",
              "    }\n",
              "\n",
              "    [theme=dark] .colab-df-convert {\n",
              "      background-color: #3B4455;\n",
              "      fill: #D2E3FC;\n",
              "    }\n",
              "\n",
              "    [theme=dark] .colab-df-convert:hover {\n",
              "      background-color: #434B5C;\n",
              "      box-shadow: 0px 1px 3px 1px rgba(0, 0, 0, 0.15);\n",
              "      filter: drop-shadow(0px 1px 2px rgba(0, 0, 0, 0.3));\n",
              "      fill: #FFFFFF;\n",
              "    }\n",
              "  </style>\n",
              "\n",
              "      <script>\n",
              "        const buttonEl =\n",
              "          document.querySelector('#df-18b5382d-b876-4f51-a48a-257fcd2c3545 button.colab-df-convert');\n",
              "        buttonEl.style.display =\n",
              "          google.colab.kernel.accessAllowed ? 'block' : 'none';\n",
              "\n",
              "        async function convertToInteractive(key) {\n",
              "          const element = document.querySelector('#df-18b5382d-b876-4f51-a48a-257fcd2c3545');\n",
              "          const dataTable =\n",
              "            await google.colab.kernel.invokeFunction('convertToInteractive',\n",
              "                                                     [key], {});\n",
              "          if (!dataTable) return;\n",
              "\n",
              "          const docLinkHtml = 'Like what you see? Visit the ' +\n",
              "            '<a target=\"_blank\" href=https://colab.research.google.com/notebooks/data_table.ipynb>data table notebook</a>'\n",
              "            + ' to learn more about interactive tables.';\n",
              "          element.innerHTML = '';\n",
              "          dataTable['output_type'] = 'display_data';\n",
              "          await google.colab.output.renderOutput(dataTable, element);\n",
              "          const docLink = document.createElement('div');\n",
              "          docLink.innerHTML = docLinkHtml;\n",
              "          element.appendChild(docLink);\n",
              "        }\n",
              "      </script>\n",
              "    </div>\n",
              "  </div>\n",
              "  "
            ]
          },
          "metadata": {},
          "execution_count": 119
        }
      ],
      "source": [
        "dataset.sample(n=3)"
      ]
    },
    {
      "cell_type": "code",
      "execution_count": 120,
      "id": "9396edbe",
      "metadata": {
        "id": "9396edbe",
        "outputId": "1e9418cb-9ebb-45a0-86dc-422c9e46e61a",
        "colab": {
          "base_uri": "https://localhost:8080/"
        }
      },
      "outputs": [
        {
          "output_type": "execute_result",
          "data": {
            "text/plain": [
              "((1162,), (1162,))"
            ]
          },
          "metadata": {},
          "execution_count": 120
        }
      ],
      "source": [
        "X, y = dataset['Affiliations'], dataset['IFG']\n",
        "X.shape, y.shape"
      ]
    },
    {
      "cell_type": "code",
      "execution_count": 121,
      "id": "cbbf1fdd",
      "metadata": {
        "id": "cbbf1fdd",
        "outputId": "52025540-d2d6-4993-cba3-f952b1c63f4b",
        "colab": {
          "base_uri": "https://localhost:8080/"
        }
      },
      "outputs": [
        {
          "output_type": "execute_result",
          "data": {
            "text/plain": [
              "0       Instituto Federal de Goiás-IFG, Campus Goiânia...\n",
              "1       Instituto Federal de Goiás (IFG), Aparecida de...\n",
              "2       Instituto Federal de Educação, Ciência e Tecno...\n",
              "3       Universidade Federal de Goiás – UFG, Rede Pró ...\n",
              "4       Department of Agronomy, Universidade Federal R...\n",
              "                              ...                        \n",
              "1157    UNIV FED RECONCAVO BAHIA, CENTRO FORMACAO PROF...\n",
              "1158                                        UNESP-MARILIA\n",
              "1159                          UNIV FEDERAL CAMPINA GRANDE\n",
              "1160                             REVISTA DE SAUDE PUBLICA\n",
              "1161                                      UNIV NOVE JULHO\n",
              "Name: Affiliations, Length: 1162, dtype: object"
            ]
          },
          "metadata": {},
          "execution_count": 121
        }
      ],
      "source": [
        "X"
      ]
    },
    {
      "cell_type": "markdown",
      "id": "9947e154",
      "metadata": {
        "id": "9947e154"
      },
      "source": [
        "#### Bag of Words\n",
        "\n",
        "É uma matriz esparsa com a ocorrência ou não de um termo em cada texto ou documento."
      ]
    },
    {
      "cell_type": "code",
      "execution_count": 122,
      "id": "c52ed896",
      "metadata": {
        "id": "c52ed896"
      },
      "outputs": [],
      "source": [
        "from sklearn.feature_extraction.text import CountVectorizer\n",
        "vectorizer = CountVectorizer(\n",
        "    max_features = 1500, # vocabulário considera top max_features ordenadas por freq do termo no texto \n",
        "    min_df = 5, # ignorar termos com frequencia menor do que x, onde 0<=x<=1\n",
        "    max_df = 0.7, # ignorar termos com frequencia maior do que x, onde 0<=x<=1\n",
        "    stop_words = palavrasIgnoradas\n",
        ")"
      ]
    },
    {
      "cell_type": "code",
      "execution_count": 123,
      "id": "7e3d1b12",
      "metadata": {
        "id": "7e3d1b12",
        "outputId": "58a2342f-ecd3-4278-8c98-977e0d0b99ed",
        "colab": {
          "base_uri": "https://localhost:8080/"
        }
      },
      "outputs": [
        {
          "output_type": "execute_result",
          "data": {
            "text/plain": [
              "CountVectorizer(max_df=0.7, max_features=1500, min_df=5,\n",
              "                stop_words=['a', 'à', 'ao', 'aos', 'aquela', 'aquelas',\n",
              "                            'aquele', 'aqueles', 'aquilo', 'as', 'às', 'até',\n",
              "                            'com', 'como', 'da', 'das', 'de', 'dela', 'delas',\n",
              "                            'dele', 'deles', 'depois', 'do', 'dos', 'e', 'é',\n",
              "                            'ela', 'elas', 'ele', 'eles', ...])"
            ]
          },
          "metadata": {},
          "execution_count": 123
        }
      ],
      "source": [
        "vectorizer"
      ]
    },
    {
      "cell_type": "code",
      "execution_count": 124,
      "id": "9504c813",
      "metadata": {
        "id": "9504c813",
        "outputId": "62905ec7-8110-40e3-aa92-642a33c92dc8",
        "colab": {
          "base_uri": "https://localhost:8080/"
        }
      },
      "outputs": [
        {
          "output_type": "execute_result",
          "data": {
            "text/plain": [
              "0       Instituto Federal de Goiás-IFG, Campus Goiânia...\n",
              "1       Instituto Federal de Goiás (IFG), Aparecida de...\n",
              "2       Instituto Federal de Educação, Ciência e Tecno...\n",
              "3       Universidade Federal de Goiás – UFG, Rede Pró ...\n",
              "4       Department of Agronomy, Universidade Federal R...\n",
              "                              ...                        \n",
              "1157    UNIV FED RECONCAVO BAHIA, CENTRO FORMACAO PROF...\n",
              "1158                                        UNESP-MARILIA\n",
              "1159                          UNIV FEDERAL CAMPINA GRANDE\n",
              "1160                             REVISTA DE SAUDE PUBLICA\n",
              "1161                                      UNIV NOVE JULHO\n",
              "Name: Affiliations, Length: 1162, dtype: object"
            ]
          },
          "metadata": {},
          "execution_count": 124
        }
      ],
      "source": [
        "X"
      ]
    },
    {
      "cell_type": "code",
      "execution_count": 125,
      "id": "cab295c6",
      "metadata": {
        "id": "cab295c6"
      },
      "outputs": [],
      "source": [
        "X = vectorizer.fit_transform(X).toarray()"
      ]
    },
    {
      "cell_type": "code",
      "execution_count": 126,
      "id": "10b107d7",
      "metadata": {
        "id": "10b107d7",
        "outputId": "b78c37f6-ceea-414f-ce54-6a16f11c00cb",
        "colab": {
          "base_uri": "https://localhost:8080/"
        }
      },
      "outputs": [
        {
          "output_type": "execute_result",
          "data": {
            "text/plain": [
              "(1162, 1033)"
            ]
          },
          "metadata": {},
          "execution_count": 126
        }
      ],
      "source": [
        "X.shape"
      ]
    },
    {
      "cell_type": "markdown",
      "id": "dc925511",
      "metadata": {
        "id": "dc925511"
      },
      "source": [
        "#### TFIDF (term frequency–inverse document frequency)\n",
        "\n",
        "É uma medida estatística que almeja refletir a importância (peso) de um termo em um conjunto de documentos através de sua frequência.\n",
        "O peso de um termo que ocorre em um documento é diretamente proporcional à sua frequência.\n",
        "Quanto mais um termo aparece no conjunto de documentos, mais importante ele é.\n",
        "Entretanto, quando o tamanho dos documentos varia muito, é natural que um termo possa aparecer mais. Por isso algum ajuste precisa ser feito a variedade. Termos como \"do\", \"de\" na língua portuguesa ou \"the\", \"of\" na língua inglesa tendem a aparecer mais que outros.\n",
        "\n",
        "TFIDF procura resolver este problema multiplicando a frequência do termo pelo inverso da frequência do termo em um conjunto de textos.\n",
        "\n",
        "$$ idf(t, D) = log\\frac{N}{count(d~\\in~D:t~\\in~d)}$$"
      ]
    },
    {
      "cell_type": "code",
      "execution_count": 127,
      "id": "2efafd5c",
      "metadata": {
        "id": "2efafd5c"
      },
      "outputs": [],
      "source": [
        "from sklearn.feature_extraction.text import TfidfTransformer\n",
        "tfidfconverter = TfidfTransformer()\n",
        "X = tfidfconverter.fit_transform(X).toarray()"
      ]
    },
    {
      "cell_type": "markdown",
      "id": "2813ae6b",
      "metadata": {
        "id": "2813ae6b"
      },
      "source": [
        "##### Separando o dataset em 2 partes (treino e teste)"
      ]
    },
    {
      "cell_type": "code",
      "execution_count": 128,
      "id": "5dea65fe",
      "metadata": {
        "id": "5dea65fe"
      },
      "outputs": [],
      "source": [
        "from sklearn.model_selection import train_test_split\n",
        "X_train, X_test, y_train, y_test = train_test_split(X, y, test_size = 0.1, random_state = 3)"
      ]
    },
    {
      "cell_type": "markdown",
      "id": "443a38ad",
      "metadata": {
        "id": "443a38ad"
      },
      "source": [
        "##### Criando e treinando o modelo com os dados de treino ***Logistic Regression*** "
      ]
    },
    {
      "cell_type": "code",
      "execution_count": 129,
      "id": "f32ad2ff",
      "metadata": {
        "id": "f32ad2ff",
        "outputId": "f4d37efa-0193-4657-b47f-bf3bbe9a5227",
        "colab": {
          "base_uri": "https://localhost:8080/"
        }
      },
      "outputs": [
        {
          "output_type": "execute_result",
          "data": {
            "text/plain": [
              "LogisticRegression()"
            ]
          },
          "metadata": {},
          "execution_count": 129
        }
      ],
      "source": [
        "from sklearn.linear_model import LogisticRegression\n",
        "modeloRegressaoLogistica = LogisticRegression()\n",
        "modeloRegressaoLogistica.fit(X_train, y_train)"
      ]
    },
    {
      "cell_type": "markdown",
      "id": "97d744ae",
      "metadata": {
        "id": "97d744ae"
      },
      "source": [
        "##### Testando o modelo com o conjunto de teste"
      ]
    },
    {
      "cell_type": "code",
      "execution_count": 130,
      "id": "9840d21f",
      "metadata": {
        "id": "9840d21f"
      },
      "outputs": [],
      "source": [
        "predictions = modeloRegressaoLogistica.predict(X_test)"
      ]
    },
    {
      "cell_type": "markdown",
      "id": "404d71f0",
      "metadata": {
        "id": "404d71f0"
      },
      "source": [
        "### Avaliação da classificação\n",
        "\n",
        "Algumas métricas são utilizadas para avaliar o quão bom um modelo é capaz de classificar.\n",
        "\n",
        "#### Acurácia\n",
        "\n",
        "* True positive (TP): quando um elemento pertence a uma classe e o modelo diz que ele pertence.\n",
        "* False positive (FP): quando o elemento não pertence a uma classe e o modelo diz que ele pertence;\n",
        "* True negative (TN): quando um elemento não pertence a uma classe e o modelo diz que ele não pertence;\n",
        "* False negative (FN): quando um elemento pertence a uma classe e o modelo diz que ele não pertence;\n",
        "    \n",
        "A acuária é obtida como se segue:\n",
        "    \n",
        "$$ acurária = \\frac{TP + TN}{TP + FP + TN + FN} $$\n",
        "\n",
        "A acurácia pode ser representada por uma matriz de confusão.\n",
        "\n",
        "#### Precisão\n",
        "\n",
        "A precisão é a métrica que indica qual a proporção de identificações positivas foi correta. Ou seja, entre todas as identificações positivas, em que proporção o modelo realmente acertou. A precisão é dada pela fórmula:\n",
        "\n",
        "$$ Precisão = \\frac{TP}{TP + FP} $$\n",
        "\n",
        "\n",
        "#### Recall\n",
        "\n",
        "O *recall* indica a proporção de verdadeiros positivos corretamente identificados. A fórmula para cacular o *recall* é dada por:\n",
        "\n",
        "$$ Recall = \\frac{TP}{TP + FN} $$\n"
      ]
    },
    {
      "cell_type": "code",
      "execution_count": 131,
      "id": "00db3a3d",
      "metadata": {
        "id": "00db3a3d",
        "outputId": "6961c3fe-dba2-4b5e-b8e3-789bc95e1277",
        "colab": {
          "base_uri": "https://localhost:8080/"
        }
      },
      "outputs": [
        {
          "output_type": "stream",
          "name": "stdout",
          "text": [
            "[[81  2]\n",
            " [ 1 33]]\n",
            "              precision    recall  f1-score   support\n",
            "\n",
            "           0       0.99      0.98      0.98        83\n",
            "           1       0.94      0.97      0.96        34\n",
            "\n",
            "    accuracy                           0.97       117\n",
            "   macro avg       0.97      0.97      0.97       117\n",
            "weighted avg       0.97      0.97      0.97       117\n",
            "\n",
            "0.9743589743589743\n"
          ]
        }
      ],
      "source": [
        "from sklearn.metrics import classification_report, confusion_matrix, accuracy_score\n",
        "\n",
        "print(confusion_matrix(y_test,predictions))\n",
        "print(classification_report(y_test,predictions))\n",
        "print(accuracy_score(y_test, predictions))"
      ]
    },
    {
      "cell_type": "code",
      "execution_count": 132,
      "id": "91b58989",
      "metadata": {
        "id": "91b58989",
        "outputId": "65c024a3-5062-4e2c-9c77-1e2aac8fcb05",
        "colab": {
          "base_uri": "https://localhost:8080/"
        }
      },
      "outputs": [
        {
          "output_type": "stream",
          "name": "stdout",
          "text": [
            "True Positive(TP)  =  33\n",
            "False Positive(FP) =  2\n",
            "True Negative(TN)  =  81\n",
            "False Negative(FN) =  1\n",
            "Acurácia da classificação binária = 97.436%\n"
          ]
        }
      ],
      "source": [
        "cm = confusion_matrix(y_test, predictions)\n",
        "\n",
        "TN, FP, FN, TP = confusion_matrix(y_test, predictions).ravel()\n",
        "\n",
        "print('True Positive(TP)  = ', TP)\n",
        "print('False Positive(FP) = ', FP)\n",
        "print('True Negative(TN)  = ', TN)\n",
        "print('False Negative(FN) = ', FN)\n",
        "\n",
        "accuracy =  (TP+TN) /(TP+FP+TN+FN)\n",
        "\n",
        "print('Acurácia da classificação binária = {:0.3f}%'.format(accuracy*100))"
      ]
    },
    {
      "cell_type": "code",
      "source": [
        "import sklearn.metrics as metrics\n",
        "confusion_matrix = confusion_matrix(y_test, predictions)\n",
        "cm_display = metrics.ConfusionMatrixDisplay(confusion_matrix = confusion_matrix, display_labels = [False, True])\n",
        "\n",
        "cm_display.plot()\n",
        "plt.savefig('matrizdeconfusaoLR.png')\n",
        "plt.show() "
      ],
      "metadata": {
        "colab": {
          "base_uri": "https://localhost:8080/",
          "height": 281
        },
        "id": "U6G2XVmMSshF",
        "outputId": "9b85c652-8f2f-42ba-89d0-0cae612cde2f"
      },
      "id": "U6G2XVmMSshF",
      "execution_count": 133,
      "outputs": [
        {
          "output_type": "display_data",
          "data": {
            "text/plain": [
              "<Figure size 432x288 with 2 Axes>"
            ],
            "image/png": "[encoded data removed]"
          },
          "metadata": {
            "needs_background": "light"
          }
        }
      ]
    },
    {
      "cell_type": "code",
      "execution_count": 134,
      "id": "509ee9b1",
      "metadata": {
        "id": "509ee9b1"
      },
      "outputs": [],
      "source": [
        "import sklearn.metrics as metrics\n",
        "fpr, tpr, threshold = metrics.roc_curve(y_test, predictions)\n",
        "roc_auc = metrics.auc(fpr, tpr)"
      ]
    },
    {
      "cell_type": "code",
      "execution_count": 135,
      "id": "c7c89d8c",
      "metadata": {
        "id": "c7c89d8c",
        "outputId": "9a0c9c17-bb44-4f74-af64-f976cfca6677",
        "colab": {
          "base_uri": "https://localhost:8080/",
          "height": 295
        }
      },
      "outputs": [
        {
          "output_type": "display_data",
          "data": {
            "text/plain": [
              "<Figure size 432x288 with 1 Axes>"
            ],
            "image/png": "[encoded data removed]"
          },
          "metadata": {
            "needs_background": "light"
          }
        }
      ],
      "source": [
        "# method I: plt\n",
        "import matplotlib.pyplot as plt\n",
        "plt.title('Receiver Operating Characteristic')\n",
        "plt.plot(fpr, tpr, 'b', label = 'AUC = %0.2f' % roc_auc)\n",
        "plt.legend(loc = 'lower right')\n",
        "plt.plot([0, 1], [0, 1],'r--')\n",
        "plt.xlim([0, 1])\n",
        "plt.ylim([0, 1])\n",
        "plt.ylabel('True Positive Rate')\n",
        "plt.xlabel('False Positive Rate')\n",
        "plt.savefig('curvaROCLR.png')"
      ]
    },
    {
      "cell_type": "markdown",
      "source": [
        "##Support Vector Machine (SVM)"
      ],
      "metadata": {
        "id": "_9whB1P2UCiv"
      },
      "id": "_9whB1P2UCiv"
    },
    {
      "cell_type": "code",
      "metadata": {
        "id": "QP3de85SUo0S"
      },
      "source": [
        "import pandas as pd\n",
        "dataset = pd.read_csv('https://raw.githubusercontent.com/joaograndotto/PIBITI/main/Datasets/dados_com_label.csv')\n",
        "\n",
        "dataset['IFG'] = dataset['Institution'].apply(lambda x: 1 if str(x).strip() == \"Instituto Federal de Goiás\" else 0)"
      ],
      "execution_count": 136,
      "outputs": [],
      "id": "QP3de85SUo0S"
    },
    {
      "cell_type": "code",
      "metadata": {
        "id": "ZfzUZlWzNb4b",
        "colab": {
          "base_uri": "https://localhost:8080/",
          "height": 240
        },
        "outputId": "44a1dddd-0765-4694-fee7-56ad22019abe"
      },
      "source": [
        "dataset.sample(n=3)"
      ],
      "execution_count": 137,
      "outputs": [
        {
          "output_type": "execute_result",
          "data": {
            "text/plain": [
              "                                DOI  \\\n",
              "250          10.1002/adfm.201903086   \n",
              "1083   10.1007/978-3-540-74561-7_18   \n",
              "956   10.1016/S1369-7021(12)70046-9   \n",
              "\n",
              "                                               Title  Year  \\\n",
              "250   Tunable Emission in Heteroepitaxial Ln-SURMOFs  2019   \n",
              "1083                     Capillary Optics for X-Rays  2008   \n",
              "956       Epitaxially grown metal-organic frameworks  2012   \n",
              "\n",
              "                                           Affiliations  \\\n",
              "250   Institute of Functional Interfaces (IFG), Karl...   \n",
              "1083  IfG-Institute for Scientific Instruments GmbH,...   \n",
              "956   Institut für Funktionelle Grenzflächen, IFG, K...   \n",
              "\n",
              "                         Campus                                  Institution  \\\n",
              "250    Eggenstein-Leopoldshafen           Institute of Functional Interfaces   \n",
              "1083                    Germany   Institute for Scientific Instruments GmbH    \n",
              "956                     Germany       Institut für Funktionelle Grenzflächen   \n",
              "\n",
              "      IFG  \n",
              "250     0  \n",
              "1083    0  \n",
              "956     0  "
            ],
            "text/html": [
              "\n",
              "  <div id=\"df-e557bf58-d966-4097-93c9-048fdf54eed0\">\n",
              "    <div class=\"colab-df-container\">\n",
              "      <div>\n",
              "<style scoped>\n",
              "    .dataframe tbody tr th:only-of-type {\n",
              "        vertical-align: middle;\n",
              "    }\n",
              "\n",
              "    .dataframe tbody tr th {\n",
              "        vertical-align: top;\n",
              "    }\n",
              "\n",
              "    .dataframe thead th {\n",
              "        text-align: right;\n",
              "    }\n",
              "</style>\n",
              "<table border=\"1\" class=\"dataframe\">\n",
              "  <thead>\n",
              "    <tr style=\"text-align: right;\">\n",
              "      <th></th>\n",
              "      <th>DOI</th>\n",
              "      <th>Title</th>\n",
              "      <th>Year</th>\n",
              "      <th>Affiliations</th>\n",
              "      <th>Campus</th>\n",
              "      <th>Institution</th>\n",
              "      <th>IFG</th>\n",
              "    </tr>\n",
              "  </thead>\n",
              "  <tbody>\n",
              "    <tr>\n",
              "      <th>250</th>\n",
              "      <td>10.1002/adfm.201903086</td>\n",
              "      <td>Tunable Emission in Heteroepitaxial Ln-SURMOFs</td>\n",
              "      <td>2019</td>\n",
              "      <td>Institute of Functional Interfaces (IFG), Karl...</td>\n",
              "      <td>Eggenstein-Leopoldshafen</td>\n",
              "      <td>Institute of Functional Interfaces</td>\n",
              "      <td>0</td>\n",
              "    </tr>\n",
              "    <tr>\n",
              "      <th>1083</th>\n",
              "      <td>10.1007/978-3-540-74561-7_18</td>\n",
              "      <td>Capillary Optics for X-Rays</td>\n",
              "      <td>2008</td>\n",
              "      <td>IfG-Institute for Scientific Instruments GmbH,...</td>\n",
              "      <td>Germany</td>\n",
              "      <td>Institute for Scientific Instruments GmbH</td>\n",
              "      <td>0</td>\n",
              "    </tr>\n",
              "    <tr>\n",
              "      <th>956</th>\n",
              "      <td>10.1016/S1369-7021(12)70046-9</td>\n",
              "      <td>Epitaxially grown metal-organic frameworks</td>\n",
              "      <td>2012</td>\n",
              "      <td>Institut für Funktionelle Grenzflächen, IFG, K...</td>\n",
              "      <td>Germany</td>\n",
              "      <td>Institut für Funktionelle Grenzflächen</td>\n",
              "      <td>0</td>\n",
              "    </tr>\n",
              "  </tbody>\n",
              "</table>\n",
              "</div>\n",
              "      <button class=\"colab-df-convert\" onclick=\"convertToInteractive('df-e557bf58-d966-4097-93c9-048fdf54eed0')\"\n",
              "              title=\"Convert this dataframe to an interactive table.\"\n",
              "              style=\"display:none;\">\n",
              "        \n",
              "  <svg xmlns=\"http://www.w3.org/2000/svg\" height=\"24px\"viewBox=\"0 0 24 24\"\n",
              "       width=\"24px\">\n",
              "    <path d=\"M0 0h24v24H0V0z\" fill=\"none\"/>\n",
              "    <path d=\"M18.56 5.44l.94 2.06.94-2.06 2.06-.94-2.06-.94-.94-2.06-.94 2.06-2.06.94zm-11 1L8.5 8.5l.94-2.06 2.06-.94-2.06-.94L8.5 2.5l-.94 2.06-2.06.94zm10 10l.94 2.06.94-2.06 2.06-.94-2.06-.94-.94-2.06-.94 2.06-2.06.94z\"/><path d=\"M17.41 7.96l-1.37-1.37c-.4-.4-.92-.59-1.43-.59-.52 0-1.04.2-1.43.59L10.3 9.45l-7.72 7.72c-.78.78-.78 2.05 0 2.83L4 21.41c.39.39.9.59 1.41.59.51 0 1.02-.2 1.41-.59l7.78-7.78 2.81-2.81c.8-.78.8-2.07 0-2.86zM5.41 20L4 18.59l7.72-7.72 1.47 1.35L5.41 20z\"/>\n",
              "  </svg>\n",
              "      </button>\n",
              "      \n",
              "  <style>\n",
              "    .colab-df-container {\n",
              "      display:flex;\n",
              "      flex-wrap:wrap;\n",
              "      gap: 12px;\n",
              "    }\n",
              "\n",
              "    .colab-df-convert {\n",
              "      background-color: #E8F0FE;\n",
              "      border: none;\n",
              "      border-radius: 50%;\n",
              "      cursor: pointer;\n",
              "      display: none;\n",
              "      fill: #1967D2;\n",
              "      height: 32px;\n",
              "      padding: 0 0 0 0;\n",
              "      width: 32px;\n",
              "    }\n",
              "\n",
              "    .colab-df-convert:hover {\n",
              "      background-color: #E2EBFA;\n",
              "      box-shadow: 0px 1px 2px rgba(60, 64, 67, 0.3), 0px 1px 3px 1px rgba(60, 64, 67, 0.15);\n",
              "      fill: #174EA6;\n",
              "    }\n",
              "\n",
              "    [theme=dark] .colab-df-convert {\n",
              "      background-color: #3B4455;\n",
              "      fill: #D2E3FC;\n",
              "    }\n",
              "\n",
              "    [theme=dark] .colab-df-convert:hover {\n",
              "      background-color: #434B5C;\n",
              "      box-shadow: 0px 1px 3px 1px rgba(0, 0, 0, 0.15);\n",
              "      filter: drop-shadow(0px 1px 2px rgba(0, 0, 0, 0.3));\n",
              "      fill: #FFFFFF;\n",
              "    }\n",
              "  </style>\n",
              "\n",
              "      <script>\n",
              "        const buttonEl =\n",
              "          document.querySelector('#df-e557bf58-d966-4097-93c9-048fdf54eed0 button.colab-df-convert');\n",
              "        buttonEl.style.display =\n",
              "          google.colab.kernel.accessAllowed ? 'block' : 'none';\n",
              "\n",
              "        async function convertToInteractive(key) {\n",
              "          const element = document.querySelector('#df-e557bf58-d966-4097-93c9-048fdf54eed0');\n",
              "          const dataTable =\n",
              "            await google.colab.kernel.invokeFunction('convertToInteractive',\n",
              "                                                     [key], {});\n",
              "          if (!dataTable) return;\n",
              "\n",
              "          const docLinkHtml = 'Like what you see? Visit the ' +\n",
              "            '<a target=\"_blank\" href=https://colab.research.google.com/notebooks/data_table.ipynb>data table notebook</a>'\n",
              "            + ' to learn more about interactive tables.';\n",
              "          element.innerHTML = '';\n",
              "          dataTable['output_type'] = 'display_data';\n",
              "          await google.colab.output.renderOutput(dataTable, element);\n",
              "          const docLink = document.createElement('div');\n",
              "          docLink.innerHTML = docLinkHtml;\n",
              "          element.appendChild(docLink);\n",
              "        }\n",
              "      </script>\n",
              "    </div>\n",
              "  </div>\n",
              "  "
            ]
          },
          "metadata": {},
          "execution_count": 137
        }
      ],
      "id": "ZfzUZlWzNb4b"
    },
    {
      "cell_type": "code",
      "metadata": {
        "id": "knb9vGqsZ1jt"
      },
      "source": [
        "X, y = dataset['Affiliations'], dataset['IFG']"
      ],
      "execution_count": 138,
      "outputs": [],
      "id": "knb9vGqsZ1jt"
    },
    {
      "cell_type": "code",
      "metadata": {
        "id": "7RWgT34HPiiE",
        "colab": {
          "base_uri": "https://localhost:8080/"
        },
        "outputId": "8048bf8d-6643-4291-ecbd-cb56f135eeb2"
      },
      "source": [
        "import numpy as np\n",
        "import re\n",
        "import nltk\n",
        "from sklearn.datasets import load_files\n",
        "nltk.download('stopwords')\n",
        "import pickle\n",
        "from nltk.corpus import stopwords"
      ],
      "execution_count": 139,
      "outputs": [
        {
          "output_type": "stream",
          "name": "stderr",
          "text": [
            "[nltk_data] Downloading package stopwords to /root/nltk_data...\n",
            "[nltk_data]   Package stopwords is already up-to-date!\n"
          ]
        }
      ],
      "id": "7RWgT34HPiiE"
    },
    {
      "cell_type": "code",
      "metadata": {
        "id": "cUDmSd_MPdvU"
      },
      "source": [
        "palavrasIgnoradas = \\\n",
        "    stopwords.words('portuguese') + \\\n",
        "    stopwords.words('english') + \\\n",
        "    stopwords.words('german') + \\\n",
        "    stopwords.words('spanish')"
      ],
      "execution_count": 140,
      "outputs": [],
      "id": "cUDmSd_MPdvU"
    },
    {
      "cell_type": "code",
      "metadata": {
        "id": "9b2b4JTgPIJ2"
      },
      "source": [
        "from sklearn.feature_extraction.text import CountVectorizer\n",
        "vectorizer = CountVectorizer(\n",
        "    max_features = 1500, # vocabulário considera top max_features ordenadas por freq do termo no texto \n",
        "    min_df = 5, # ignorar termos com frequencia menr do que x, onde 0<=x<=1\n",
        "    max_df = 0.7, # ignorar termos com frequencia maior do que x, onde 0<=x<=1\n",
        "    stop_words = palavrasIgnoradas\n",
        ")\n",
        "X = vectorizer.fit_transform(X).toarray()\n"
      ],
      "execution_count": 141,
      "outputs": [],
      "id": "9b2b4JTgPIJ2"
    },
    {
      "cell_type": "code",
      "metadata": {
        "id": "vLb2-VDZa1I1"
      },
      "source": [
        "from sklearn.feature_extraction.text import TfidfTransformer\n",
        "tfidfconverter = TfidfTransformer()\n",
        "X = tfidfconverter.fit_transform(X).toarray()"
      ],
      "execution_count": 142,
      "outputs": [],
      "id": "vLb2-VDZa1I1"
    },
    {
      "cell_type": "code",
      "metadata": {
        "colab": {
          "base_uri": "https://localhost:8080/"
        },
        "outputId": "242565d1-a4d8-4128-ae93-6db5f010eaae",
        "id": "hSBsMwZqUo0e"
      },
      "source": [
        "from sklearn.model_selection import train_test_split\n",
        "x_train, x_test, y_train, y_test = train_test_split(X, y,  \n",
        "                                                    random_state=1, \n",
        "                                                    test_size=0.3, shuffle=True)\n",
        "x_train.shape, x_test.shape"
      ],
      "execution_count": 143,
      "outputs": [
        {
          "output_type": "execute_result",
          "data": {
            "text/plain": [
              "((813, 1033), (349, 1033))"
            ]
          },
          "metadata": {},
          "execution_count": 143
        }
      ],
      "id": "hSBsMwZqUo0e"
    },
    {
      "cell_type": "markdown",
      "source": [
        "#### **Kernel Linear**"
      ],
      "metadata": {
        "id": "Cf5Jdn94U0CG"
      },
      "id": "Cf5Jdn94U0CG"
    },
    {
      "cell_type": "code",
      "metadata": {
        "id": "bfdc68b1"
      },
      "source": [
        "from sklearn import svm\n",
        "svm_kernel_linear = svm.SVC(kernel = 'linear')\n",
        "prob_linear = svm_kernel_linear.fit(x_train, y_train)\n",
        "pred_svm_linear = svm_kernel_linear.predict(x_test)"
      ],
      "execution_count": 144,
      "outputs": [],
      "id": "bfdc68b1"
    },
    {
      "cell_type": "code",
      "source": [
        "from sklearn.metrics import classification_report, confusion_matrix, accuracy_score\n",
        "\n",
        "print(classification_report(y_test,pred_svm_linear))\n"
      ],
      "metadata": {
        "colab": {
          "base_uri": "https://localhost:8080/"
        },
        "id": "xd-A8kEAI8rz",
        "outputId": "ce5ebca5-df14-4025-d389-a0adbc25aa71"
      },
      "id": "xd-A8kEAI8rz",
      "execution_count": 145,
      "outputs": [
        {
          "output_type": "stream",
          "name": "stdout",
          "text": [
            "              precision    recall  f1-score   support\n",
            "\n",
            "           0       0.98      0.98      0.98       258\n",
            "           1       0.96      0.96      0.96        91\n",
            "\n",
            "    accuracy                           0.98       349\n",
            "   macro avg       0.97      0.97      0.97       349\n",
            "weighted avg       0.98      0.98      0.98       349\n",
            "\n"
          ]
        }
      ]
    },
    {
      "cell_type": "code",
      "source": [
        "import sklearn.metrics as metrics\n",
        "confusion_matrix = confusion_matrix(y_test, pred_svm_linear)\n",
        "cm_display = metrics.ConfusionMatrixDisplay(confusion_matrix = confusion_matrix, display_labels = [False, True])\n",
        "\n",
        "cm_display.plot()\n",
        "plt.show() "
      ],
      "metadata": {
        "colab": {
          "base_uri": "https://localhost:8080/",
          "height": 280
        },
        "id": "ibsn8BD_JUbJ",
        "outputId": "b71edf05-a4d3-48ef-8b55-0f259f7e6bdd"
      },
      "id": "ibsn8BD_JUbJ",
      "execution_count": 146,
      "outputs": [
        {
          "output_type": "display_data",
          "data": {
            "text/plain": [
              "<Figure size 432x288 with 2 Axes>"
            ],
            "image/png": "[encoded data removed]"
          },
          "metadata": {
            "needs_background": "light"
          }
        }
      ]
    },
    {
      "cell_type": "code",
      "metadata": {
        "id": "16fa5f50",
        "colab": {
          "base_uri": "https://localhost:8080/"
        },
        "outputId": "17749ecd-dff6-4445-a558-543d3539ae65"
      },
      "source": [
        "from sklearn.metrics import confusion_matrix, accuracy_score\n",
        "cm = confusion_matrix(y_test, pred_svm_linear)\n",
        "\n",
        "TN, FP, FN, TP = confusion_matrix(y_test, pred_svm_linear).ravel()\n",
        "\n",
        "print('True Positive(TP)  = ', TP)\n",
        "print('False Positive(FP) = ', FP)\n",
        "print('True Negative(TN)  = ', TN)\n",
        "print('False Negative(FN) = ', FN)\n",
        "\n",
        "accuracy =  (TP+TN) /(TP+FP+TN+FN)\n",
        "\n",
        "print('Acurácia da classificação binária = {:0.3f}%'.format(accuracy*100))"
      ],
      "execution_count": 147,
      "outputs": [
        {
          "output_type": "stream",
          "name": "stdout",
          "text": [
            "True Positive(TP)  =  87\n",
            "False Positive(FP) =  4\n",
            "True Negative(TN)  =  254\n",
            "False Negative(FN) =  4\n",
            "Acurácia da classificação binária = 97.708%\n"
          ]
        }
      ],
      "id": "16fa5f50"
    },
    {
      "cell_type": "code",
      "metadata": {
        "id": "Wto0axuwPtcr"
      },
      "source": [
        "import sklearn.metrics as metrics\n",
        "fpr, tpr, threshold = metrics.roc_curve(y_test, pred_svm_linear)\n",
        "roc_auc = metrics.auc(fpr, tpr)"
      ],
      "execution_count": 148,
      "outputs": [],
      "id": "Wto0axuwPtcr"
    },
    {
      "cell_type": "code",
      "metadata": {
        "id": "oxoN8ulDPwiT",
        "colab": {
          "base_uri": "https://localhost:8080/",
          "height": 295
        },
        "outputId": "1b0afd79-f372-4f5f-c862-7f3c1abdcd98"
      },
      "source": [
        "# method I: plt\n",
        "import matplotlib.pyplot as plt\n",
        "plt.title('Curva ROC Kernel Linear')\n",
        "plt.plot(fpr, tpr, 'b', label = 'AUC = %0.2f' % roc_auc)\n",
        "plt.legend(loc = 'lower right')\n",
        "plt.plot([0, 1], [0, 1],'r--')\n",
        "plt.xlim([0, 1])\n",
        "plt.ylim([0, 1])\n",
        "plt.ylabel('True Positive Rate')\n",
        "plt.xlabel('False Positive Rate')\n",
        "plt.show()"
      ],
      "execution_count": 149,
      "outputs": [
        {
          "output_type": "display_data",
          "data": {
            "text/plain": [
              "<Figure size 432x288 with 1 Axes>"
            ],
            "image/png": "[encoded data removed]"
          },
          "metadata": {
            "needs_background": "light"
          }
        }
      ],
      "id": "oxoN8ulDPwiT"
    },
    {
      "cell_type": "markdown",
      "metadata": {
        "id": "mVp7AOlnRQr9"
      },
      "source": [
        "#### **Kernel Poly**"
      ],
      "id": "mVp7AOlnRQr9"
    },
    {
      "cell_type": "code",
      "metadata": {
        "id": "cVmNxp0TQQHq"
      },
      "source": [
        "from sklearn import svm\n",
        "svm_kernel_poly = svm.SVC(kernel = 'poly')\n",
        "prob_poly = svm_kernel_poly.fit(x_train, y_train)\n",
        "pred_svm_poly = svm_kernel_poly.predict(x_test)\n"
      ],
      "execution_count": 150,
      "outputs": [],
      "id": "cVmNxp0TQQHq"
    },
    {
      "cell_type": "code",
      "source": [
        "from sklearn.metrics import classification_report, confusion_matrix, accuracy_score\n",
        "\n",
        "print(classification_report(y_test,pred_svm_poly))\n"
      ],
      "metadata": {
        "colab": {
          "base_uri": "https://localhost:8080/"
        },
        "id": "unQ_CSWEI08A",
        "outputId": "37361528-5046-406c-f128-88654404cb49"
      },
      "id": "unQ_CSWEI08A",
      "execution_count": 151,
      "outputs": [
        {
          "output_type": "stream",
          "name": "stdout",
          "text": [
            "              precision    recall  f1-score   support\n",
            "\n",
            "           0       0.96      1.00      0.98       258\n",
            "           1       0.99      0.89      0.94        91\n",
            "\n",
            "    accuracy                           0.97       349\n",
            "   macro avg       0.98      0.94      0.96       349\n",
            "weighted avg       0.97      0.97      0.97       349\n",
            "\n"
          ]
        }
      ]
    },
    {
      "cell_type": "code",
      "metadata": {
        "id": "LB3FXIdEQXMB",
        "colab": {
          "base_uri": "https://localhost:8080/"
        },
        "outputId": "b722a779-7953-4477-e2a3-758199abc43b"
      },
      "source": [
        "from sklearn.metrics import confusion_matrix, accuracy_score\n",
        "cm = confusion_matrix(y_test, pred_svm_poly)\n",
        "\n",
        "TN, FP, FN, TP = confusion_matrix(y_test, pred_svm_poly).ravel()\n",
        "\n",
        "print('True Positive(TP)  = ', TP)\n",
        "print('False Positive(FP) = ', FP)\n",
        "print('True Negative(TN)  = ', TN)\n",
        "print('False Negative(FN) = ', FN)\n",
        "\n",
        "accuracy =  (TP+TN) /(TP+FP+TN+FN)\n",
        "\n",
        "print('Acurácia da classificação binária = {:0.3f}%'.format(accuracy*100))"
      ],
      "execution_count": 152,
      "outputs": [
        {
          "output_type": "stream",
          "name": "stdout",
          "text": [
            "True Positive(TP)  =  81\n",
            "False Positive(FP) =  1\n",
            "True Negative(TN)  =  257\n",
            "False Negative(FN) =  10\n",
            "Acurácia da classificação binária = 96.848%\n"
          ]
        }
      ],
      "id": "LB3FXIdEQXMB"
    },
    {
      "cell_type": "code",
      "source": [
        "import sklearn.metrics as metrics\n",
        "confusion_matrix = confusion_matrix(y_test, pred_svm_poly)\n",
        "cm_display = metrics.ConfusionMatrixDisplay(confusion_matrix = confusion_matrix, display_labels = [False, True])\n",
        "\n",
        "cm_display.plot()\n",
        "plt.show() "
      ],
      "metadata": {
        "colab": {
          "base_uri": "https://localhost:8080/",
          "height": 279
        },
        "id": "tXnM-YcmJPyf",
        "outputId": "08387fdd-dd1a-4671-f352-a1b526249b8f"
      },
      "id": "tXnM-YcmJPyf",
      "execution_count": 153,
      "outputs": [
        {
          "output_type": "display_data",
          "data": {
            "text/plain": [
              "<Figure size 432x288 with 2 Axes>"
            ],
            "image/png": "[encoded data removed]"
          },
          "metadata": {
            "needs_background": "light"
          }
        }
      ]
    },
    {
      "cell_type": "code",
      "metadata": {
        "id": "fgTzHJo4QZlz"
      },
      "source": [
        "import sklearn.metrics as metrics\n",
        "fpr, tpr, threshold = metrics.roc_curve(y_test, pred_svm_poly)\n",
        "roc_auc = metrics.auc(fpr, tpr)"
      ],
      "execution_count": 154,
      "outputs": [],
      "id": "fgTzHJo4QZlz"
    },
    {
      "cell_type": "code",
      "metadata": {
        "id": "scfIo4OzQbQK",
        "colab": {
          "base_uri": "https://localhost:8080/",
          "height": 295
        },
        "outputId": "03b096d6-e5f9-4c9f-ab20-f07917b0fd28"
      },
      "source": [
        "import matplotlib.pyplot as plt\n",
        "plt.title('Curva ROC Kernel Poly')\n",
        "plt.plot(fpr, tpr, 'b', label = 'AUC = %0.2f' % roc_auc)\n",
        "plt.legend(loc = 'lower right')\n",
        "plt.plot([0, 1], [0, 1],'r--')\n",
        "plt.xlim([0, 1])\n",
        "plt.ylim([0, 1])\n",
        "plt.ylabel('True Positive Rate')\n",
        "plt.xlabel('False Positive Rate')\n",
        "plt.show()"
      ],
      "execution_count": 155,
      "outputs": [
        {
          "output_type": "display_data",
          "data": {
            "text/plain": [
              "<Figure size 432x288 with 1 Axes>"
            ],
            "image/png": "[encoded data removed]"
          },
          "metadata": {
            "needs_background": "light"
          }
        }
      ],
      "id": "scfIo4OzQbQK"
    },
    {
      "cell_type": "markdown",
      "metadata": {
        "id": "XkS41VGeRkCG"
      },
      "source": [
        "#### **Kernel RBF**"
      ],
      "id": "XkS41VGeRkCG"
    },
    {
      "cell_type": "code",
      "metadata": {
        "id": "Vhrx6EMiRWYM"
      },
      "source": [
        "from sklearn import svm\n",
        "svm_kernel_rbf = svm.SVC(kernel = 'rbf')\n",
        "\n",
        "prob_rbf = svm_kernel_rbf.fit(x_train, y_train)\n",
        "pred_svm_rbf = svm_kernel_rbf.predict(x_test)"
      ],
      "execution_count": 156,
      "outputs": [],
      "id": "Vhrx6EMiRWYM"
    },
    {
      "cell_type": "code",
      "source": [
        "from sklearn.metrics import classification_report, confusion_matrix, accuracy_score\n",
        "\n",
        "print(classification_report(y_test,pred_svm_rbf))"
      ],
      "metadata": {
        "colab": {
          "base_uri": "https://localhost:8080/"
        },
        "id": "hKdUaFI7Iw5d",
        "outputId": "36b61987-4a16-40d6-880d-7400891e31a8"
      },
      "id": "hKdUaFI7Iw5d",
      "execution_count": 157,
      "outputs": [
        {
          "output_type": "stream",
          "name": "stdout",
          "text": [
            "              precision    recall  f1-score   support\n",
            "\n",
            "           0       0.98      0.98      0.98       258\n",
            "           1       0.96      0.93      0.94        91\n",
            "\n",
            "    accuracy                           0.97       349\n",
            "   macro avg       0.97      0.96      0.96       349\n",
            "weighted avg       0.97      0.97      0.97       349\n",
            "\n"
          ]
        }
      ]
    },
    {
      "cell_type": "code",
      "metadata": {
        "id": "ImWyUqnjRQSu",
        "colab": {
          "base_uri": "https://localhost:8080/"
        },
        "outputId": "4004c734-8466-4636-a0f4-942980d2d8b3"
      },
      "source": [
        "from sklearn.metrics import confusion_matrix, accuracy_score\n",
        "cm = confusion_matrix(y_test, pred_svm_rbf)\n",
        "\n",
        "TN, FP, FN, TP = confusion_matrix(y_test, pred_svm_rbf).ravel()\n",
        "\n",
        "print('True Positive(TP)  = ', TP)\n",
        "print('False Positive(FP) = ', FP)\n",
        "print('True Negative(TN)  = ', TN)\n",
        "print('False Negative(FN) = ', FN)\n",
        "\n",
        "accuracy =  (TP+TN) /(TP+FP+TN+FN)\n",
        "\n",
        "print('Acurácia da classificação binária = {:0.3f}%'.format(accuracy*100))"
      ],
      "execution_count": 158,
      "outputs": [
        {
          "output_type": "stream",
          "name": "stdout",
          "text": [
            "True Positive(TP)  =  85\n",
            "False Positive(FP) =  4\n",
            "True Negative(TN)  =  254\n",
            "False Negative(FN) =  6\n",
            "Acurácia da classificação binária = 97.135%\n"
          ]
        }
      ],
      "id": "ImWyUqnjRQSu"
    },
    {
      "cell_type": "code",
      "source": [
        "import sklearn.metrics as metrics\n",
        "confusion_matrix = confusion_matrix(y_test, pred_svm_rbf)\n",
        "cm_display = metrics.ConfusionMatrixDisplay(confusion_matrix = confusion_matrix, display_labels = [False, True])\n",
        "\n",
        "cm_display.plot()\n",
        "plt.show() "
      ],
      "metadata": {
        "colab": {
          "base_uri": "https://localhost:8080/",
          "height": 280
        },
        "id": "ex4GGOmPJKcX",
        "outputId": "91fae476-9b89-4bbb-c074-b0053ad1a57e"
      },
      "id": "ex4GGOmPJKcX",
      "execution_count": 159,
      "outputs": [
        {
          "output_type": "display_data",
          "data": {
            "text/plain": [
              "<Figure size 432x288 with 2 Axes>"
            ],
            "image/png": "[encoded data removed]"
          },
          "metadata": {
            "needs_background": "light"
          }
        }
      ]
    },
    {
      "cell_type": "code",
      "metadata": {
        "id": "J6Lp_lX3Rq7e"
      },
      "source": [
        "import sklearn.metrics as metrics\n",
        "fpr, tpr, threshold = metrics.roc_curve(y_test, pred_svm_rbf)\n",
        "roc_auc = metrics.auc(fpr, tpr)"
      ],
      "execution_count": 160,
      "outputs": [],
      "id": "J6Lp_lX3Rq7e"
    },
    {
      "cell_type": "code",
      "metadata": {
        "id": "Cr5YqP5ZRs8m",
        "colab": {
          "base_uri": "https://localhost:8080/",
          "height": 295
        },
        "outputId": "c623dcd9-7e2d-4a4f-ccc4-5581b9fd26b3"
      },
      "source": [
        "import matplotlib.pyplot as plt\n",
        "plt.title('Curva ROC Kernel rbf')\n",
        "plt.plot(fpr, tpr, 'b', label = 'AUC = %0.2f' % roc_auc)\n",
        "plt.legend(loc = 'lower right')\n",
        "plt.plot([0, 1], [0, 1],'r--')\n",
        "plt.xlim([0, 1])\n",
        "plt.ylim([0, 1])\n",
        "plt.ylabel('True Positive Rate')\n",
        "plt.xlabel('False Positive Rate')\n",
        "plt.show()"
      ],
      "execution_count": 161,
      "outputs": [
        {
          "output_type": "display_data",
          "data": {
            "text/plain": [
              "<Figure size 432x288 with 1 Axes>"
            ],
            "image/png": "[encoded data removed]"
          },
          "metadata": {
            "needs_background": "light"
          }
        }
      ],
      "id": "Cr5YqP5ZRs8m"
    },
    {
      "cell_type": "markdown",
      "source": [
        "#### **Kernel Sigmond**"
      ],
      "metadata": {
        "id": "MgwurZjPa4VB"
      },
      "id": "MgwurZjPa4VB"
    },
    {
      "cell_type": "code",
      "metadata": {
        "id": "GzTh6tClRxmm"
      },
      "source": [
        "from sklearn import svm\n",
        "svm_kernel_sigmoid = svm.SVC(kernel = 'sigmoid')\n",
        "prob_sigmoid = svm_kernel_sigmoid.fit(x_train, y_train)"
      ],
      "execution_count": 162,
      "outputs": [],
      "id": "GzTh6tClRxmm"
    },
    {
      "cell_type": "code",
      "source": [
        "pred_svm_sigmoid = svm_kernel_sigmoid.predict(x_test)"
      ],
      "metadata": {
        "id": "np89874BZD84"
      },
      "id": "np89874BZD84",
      "execution_count": 163,
      "outputs": []
    },
    {
      "cell_type": "code",
      "source": [
        "from sklearn.metrics import classification_report, confusion_matrix, accuracy_score\n",
        "\n",
        "print(classification_report(y_test,pred_svm_sigmoid))"
      ],
      "metadata": {
        "id": "kNlY46MTjZbk",
        "colab": {
          "base_uri": "https://localhost:8080/"
        },
        "outputId": "eb5c38ab-1a2b-4762-a724-64d011f7a3c5"
      },
      "id": "kNlY46MTjZbk",
      "execution_count": 164,
      "outputs": [
        {
          "output_type": "stream",
          "name": "stdout",
          "text": [
            "              precision    recall  f1-score   support\n",
            "\n",
            "           0       0.99      0.98      0.99       258\n",
            "           1       0.96      0.98      0.97        91\n",
            "\n",
            "    accuracy                           0.98       349\n",
            "   macro avg       0.97      0.98      0.98       349\n",
            "weighted avg       0.98      0.98      0.98       349\n",
            "\n"
          ]
        }
      ]
    },
    {
      "cell_type": "code",
      "source": [
        "from sklearn.metrics import confusion_matrix, accuracy_score\n",
        "cm = confusion_matrix(y_test, pred_svm_sigmoid)\n",
        "\n",
        "TN, FP, FN, TP = confusion_matrix(y_test, pred_svm_sigmoid).ravel()\n",
        "\n",
        "print('True Positive(TP)  = ', TP)\n",
        "print('False Positive(FP) = ', FP)\n",
        "print('True Negative(TN)  = ', TN)\n",
        "print('False Negative(FN) = ', FN)\n",
        "\n",
        "accuracy =  (TP+TN) /(TP+FP+TN+FN)\n",
        "\n",
        "print('Acurácia da classificação binária = {:0.3f}%'.format(accuracy*100))"
      ],
      "metadata": {
        "id": "830F-7hpjVTz",
        "colab": {
          "base_uri": "https://localhost:8080/"
        },
        "outputId": "f63bf10b-fe84-4f60-c828-01c1066ac1d3"
      },
      "id": "830F-7hpjVTz",
      "execution_count": 165,
      "outputs": [
        {
          "output_type": "stream",
          "name": "stdout",
          "text": [
            "True Positive(TP)  =  89\n",
            "False Positive(FP) =  4\n",
            "True Negative(TN)  =  254\n",
            "False Negative(FN) =  2\n",
            "Acurácia da classificação binária = 98.281%\n"
          ]
        }
      ]
    },
    {
      "cell_type": "code",
      "source": [
        "import sklearn.metrics as metrics\n",
        "confusion_matrix = confusion_matrix(y_test, pred_svm_sigmoid)\n",
        "cm_display = metrics.ConfusionMatrixDisplay(confusion_matrix = confusion_matrix, display_labels = [False, True])\n",
        "\n",
        "cm_display.plot()\n",
        "plt.show() "
      ],
      "metadata": {
        "id": "_xZRIhC7jeXp",
        "colab": {
          "base_uri": "https://localhost:8080/",
          "height": 280
        },
        "outputId": "e27a126b-e081-4991-e4f7-c576551481af"
      },
      "id": "_xZRIhC7jeXp",
      "execution_count": 166,
      "outputs": [
        {
          "output_type": "display_data",
          "data": {
            "text/plain": [
              "<Figure size 432x288 with 2 Axes>"
            ],
            "image/png": "[encoded data removed]"
          },
          "metadata": {
            "needs_background": "light"
          }
        }
      ]
    },
    {
      "cell_type": "code",
      "metadata": {
        "id": "rDXhbqpiSF8U",
        "colab": {
          "base_uri": "https://localhost:8080/"
        },
        "outputId": "4379d41a-d5d1-4b58-c583-e52968eccb0b"
      },
      "source": [
        "from sklearn.metrics import confusion_matrix, accuracy_score\n",
        "cm = confusion_matrix(y_test, pred_svm_sigmoid)\n",
        "\n",
        "TN, FP, FN, TP = confusion_matrix(y_test, pred_svm_sigmoid).ravel()\n",
        "\n",
        "print('True Positive(TP)  = ', TP)\n",
        "print('False Positive(FP) = ', FP)\n",
        "print('True Negative(TN)  = ', TN)\n",
        "print('False Negative(FN) = ', FN)\n",
        "\n",
        "accuracy =  (TP+TN) /(TP+FP+TN+FN)\n",
        "\n",
        "print('Acurácia da classificação binária = {:0.3f}%'.format(accuracy*100))"
      ],
      "execution_count": 167,
      "outputs": [
        {
          "output_type": "stream",
          "name": "stdout",
          "text": [
            "True Positive(TP)  =  89\n",
            "False Positive(FP) =  4\n",
            "True Negative(TN)  =  254\n",
            "False Negative(FN) =  2\n",
            "Acurácia da classificação binária = 98.281%\n"
          ]
        }
      ],
      "id": "rDXhbqpiSF8U"
    },
    {
      "cell_type": "code",
      "metadata": {
        "id": "5MaOvn9cSHcD"
      },
      "source": [
        "import sklearn.metrics as metrics\n",
        "fpr, tpr, threshold = metrics.roc_curve(y_test, pred_svm_sigmoid)\n",
        "roc_auc = metrics.auc(fpr, tpr)"
      ],
      "execution_count": 168,
      "outputs": [],
      "id": "5MaOvn9cSHcD"
    },
    {
      "cell_type": "code",
      "metadata": {
        "id": "cI9_EoGzSJNb",
        "colab": {
          "base_uri": "https://localhost:8080/",
          "height": 295
        },
        "outputId": "41ccf8b5-3ca7-47dc-bad8-a97ff8f53d15"
      },
      "source": [
        "import matplotlib.pyplot as plt\n",
        "plt.title('Curva ROC Kernel Sigmoid')\n",
        "plt.plot(fpr, tpr, 'b', label = 'AUC = %0.2f' % roc_auc)\n",
        "plt.legend(loc = 'lower right')\n",
        "plt.plot([0, 1], [0, 1],'r--')\n",
        "plt.xlim([0, 1])\n",
        "plt.ylim([0, 1])\n",
        "plt.ylabel('True Positive Rate')\n",
        "plt.xlabel('False Positive Rate')\n",
        "plt.savefig('curvaROCSVM.png')"
      ],
      "execution_count": 169,
      "outputs": [
        {
          "output_type": "display_data",
          "data": {
            "text/plain": [
              "<Figure size 432x288 with 1 Axes>"
            ],
            "image/png": "[encoded data removed]"
          },
          "metadata": {
            "needs_background": "light"
          }
        }
      ],
      "id": "cI9_EoGzSJNb"
    }
  ],
  "metadata": {
    "kernelspec": {
      "display_name": "Python 3 (ipykernel)",
      "language": "python",
      "name": "python3"
    },
    "language_info": {
      "codemirror_mode": {
        "name": "ipython",
        "version": 3
      },
      "file_extension": ".py",
      "mimetype": "text/x-python",
      "name": "python",
      "nbconvert_exporter": "python",
      "pygments_lexer": "ipython3",
      "version": "3.7.12"
    },
    "colab": {
      "provenance": [],
      "collapsed_sections": [
        "0284381d",
        "8d85d498"
      ],
      "machine_shape": "hm",
      "toc_visible": true
    }
  },
  "nbformat": 4,
  "nbformat_minor": 5
}